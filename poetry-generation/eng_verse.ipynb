{
  "cells": [
    {
      "cell_type": "code",
      "source": [
        "# Устанавливаем Groq и импортируем необходимые библиотеки\n",
        "\n",
        "!pip install groq\n",
        "from groq import Groq\n",
        "\n",
        "import re\n",
        "import random\n",
        "import requests\n",
        "import json\n",
        "import time\n",
        "import pandas as pd"
      ],
      "metadata": {
        "colab": {
          "base_uri": "https://localhost:8080/"
        },
        "id": "VmEXjDRg24mH",
        "outputId": "68324026-fe73-4b58-f9f1-e98d683696db"
      },
      "id": "VmEXjDRg24mH",
      "execution_count": null,
      "outputs": [
        {
          "output_type": "stream",
          "name": "stdout",
          "text": [
            "Requirement already satisfied: groq in /usr/local/lib/python3.11/dist-packages (0.25.0)\n",
            "Requirement already satisfied: anyio<5,>=3.5.0 in /usr/local/lib/python3.11/dist-packages (from groq) (4.9.0)\n",
            "Requirement already satisfied: distro<2,>=1.7.0 in /usr/local/lib/python3.11/dist-packages (from groq) (1.9.0)\n",
            "Requirement already satisfied: httpx<1,>=0.23.0 in /usr/local/lib/python3.11/dist-packages (from groq) (0.28.1)\n",
            "Requirement already satisfied: pydantic<3,>=1.9.0 in /usr/local/lib/python3.11/dist-packages (from groq) (2.11.4)\n",
            "Requirement already satisfied: sniffio in /usr/local/lib/python3.11/dist-packages (from groq) (1.3.1)\n",
            "Requirement already satisfied: typing-extensions<5,>=4.10 in /usr/local/lib/python3.11/dist-packages (from groq) (4.13.2)\n",
            "Requirement already satisfied: idna>=2.8 in /usr/local/lib/python3.11/dist-packages (from anyio<5,>=3.5.0->groq) (3.10)\n",
            "Requirement already satisfied: certifi in /usr/local/lib/python3.11/dist-packages (from httpx<1,>=0.23.0->groq) (2025.4.26)\n",
            "Requirement already satisfied: httpcore==1.* in /usr/local/lib/python3.11/dist-packages (from httpx<1,>=0.23.0->groq) (1.0.9)\n",
            "Requirement already satisfied: h11>=0.16 in /usr/local/lib/python3.11/dist-packages (from httpcore==1.*->httpx<1,>=0.23.0->groq) (0.16.0)\n",
            "Requirement already satisfied: annotated-types>=0.6.0 in /usr/local/lib/python3.11/dist-packages (from pydantic<3,>=1.9.0->groq) (0.7.0)\n",
            "Requirement already satisfied: pydantic-core==2.33.2 in /usr/local/lib/python3.11/dist-packages (from pydantic<3,>=1.9.0->groq) (2.33.2)\n",
            "Requirement already satisfied: typing-inspection>=0.4.0 in /usr/local/lib/python3.11/dist-packages (from pydantic<3,>=1.9.0->groq) (0.4.0)\n"
          ]
        }
      ]
    },
    {
      "cell_type": "code",
      "source": [
        "api_key='api_key'\n",
        "client = Groq(api_key=api_key)"
      ],
      "metadata": {
        "id": "OPE1EXBV4vHF"
      },
      "id": "OPE1EXBV4vHF",
      "execution_count": null,
      "outputs": []
    },
    {
      "cell_type": "code",
      "source": [
        "# Системный промпт и база данных\n",
        "with open('prompt_en_shortened.txt', 'r', encoding='utf-8') as f:\n",
        "    system_prompt = f.read()\n",
        "\n",
        "# Настройки Groq API\n",
        "MODEL_NAME = \"llama-3.3-70b-versatile\"\n",
        "API_URL = \"https://api.groq.com/openai/v1/chat/completions\""
      ],
      "metadata": {
        "id": "WRGbjQIKxU2o"
      },
      "id": "WRGbjQIKxU2o",
      "execution_count": null,
      "outputs": []
    },
    {
      "cell_type": "code",
      "source": [
        "def generate_with_groq(prompt_text, temperature):\n",
        "    \"\"\"Функция для генерации текста через Groq API\"\"\"\n",
        "    messages = [\n",
        "        {\"role\": \"system\", \"content\": system_prompt + database},\n",
        "        {\"role\": \"user\", \"content\": prompt_text}\n",
        "    ]\n",
        "\n",
        "    headers = {\n",
        "        \"Authorization\": f\"Bearer {api_key}\",\n",
        "        \"Content-Type\": \"application/json\"\n",
        "    }\n",
        "\n",
        "    data = {\n",
        "        \"messages\": messages,\n",
        "        \"model\": MODEL_NAME,\n",
        "        \"temperature\": temperature,\n",
        "        \"max_tokens\": 1024,\n",
        "    }\n",
        "\n",
        "    response = requests.post(API_URL, headers=headers, json=data)\n",
        "\n",
        "    if response.status_code == 200:\n",
        "        result = response.json()\n",
        "        return result['choices'][0]['message']['content']\n",
        "    else:\n",
        "        raise Exception(f\"API Error: {response.status_code}, {response.text}\")\n",
        "\n",
        "def main():\n",
        "    # Ввод параметров\n",
        "    prompt_text = input(\"Enter your prompt: \")\n",
        "    num_generations = int(input(\"How many versions? \"))\n",
        "\n",
        "    # Создаем DataFrame для хранения результатов\n",
        "    results_df = pd.DataFrame(columns=[\n",
        "        'promt',\n",
        "        'version',\n",
        "        'temperature',\n",
        "        'result'\n",
        "    ])\n",
        "\n",
        "    for i in range(num_generations):\n",
        "        try:\n",
        "            # Генерация случайной температуры\n",
        "            current_temp = random.uniform(0.4, 1.0)\n",
        "            output = generate_with_groq(prompt_text, current_temp)\n",
        "\n",
        "            # Парсинг результата\n",
        "            matches = re.findall(r'<start_of_turn>(.*?)<end_of_turn>', output, re.DOTALL)\n",
        "            result_text = matches[1] if len(matches) > 1 else output\n",
        "\n",
        "            # Добавляем результат в DataFrame\n",
        "            results_df.loc[len(results_df)] = [\n",
        "                prompt_text,\n",
        "                i+1,\n",
        "                round(current_temp, 2),\n",
        "                result_text\n",
        "            ]\n",
        "\n",
        "            print(f\"\\nVersion {i+1} (temp={current_temp:.2f}):\")\n",
        "            print(result_text)\n",
        "            print(\"-\"*50)\n",
        "\n",
        "\n",
        "        except Exception as e:\n",
        "            print(f\"Generation error: {str(e)}\")\n",
        "\n",
        "            # Обработка ошибки лимитов токенов Groq\n",
        "            if hasattr(e, 'args') and len(e.args) > 0 and \"Rate limit reached for model\" in str(e.args[0]):\n",
        "                try:\n",
        "                    # Парсим JSON\n",
        "                    error_data = eval(str(e).split(\"API Error: 429, \")[1])\n",
        "                    wait_time = float(error_data['error']['message'].split(\"try again in \")[1].split(\"s.\")[0])\n",
        "\n",
        "                    # Запас 0.5 сек\n",
        "                    wait_time += 0.5\n",
        "                    print(f\"You've reached token limit. Waiting {wait_time:.2f} sec...\")\n",
        "\n",
        "                    time.sleep(wait_time)\n",
        "                    i -= 1  # Повторяем текущую итерацию\n",
        "                    continue\n",
        "                except Exception as parse_error:\n",
        "                    # Если не удалось спарсить, ждем 60 сек\n",
        "                    print(f\"Failed to parse waiting time: {parse_error}. Waiting 60 sec...\")\n",
        "                    time.sleep(60)\n",
        "                    i -= 1\n",
        "                    continue\n",
        "\n",
        "    # Сохранение в CSV\n",
        "    results_df.to_csv(filename, index=False, encoding='utf-8-sig')\n",
        "    print(f\"\\nРезультаты сохранены в {filename}\")"
      ],
      "metadata": {
        "id": "QzUape3A8dJl"
      },
      "id": "QzUape3A8dJl",
      "execution_count": null,
      "outputs": []
    },
    {
      "cell_type": "markdown",
      "source": [
        "Баллада"
      ],
      "metadata": {
        "id": "-lULsI9W5i95"
      },
      "id": "-lULsI9W5i95"
    },
    {
      "cell_type": "code",
      "source": [
        "prompt_number = 1\n",
        "\n",
        "with open(f\"prompt{prompt_number}.txt\", 'r', encoding='utf-8') as f:\n",
        "    database = f.read()\n",
        "filename = f\"results_prompt{prompt_number}.csv\"\n",
        "\n",
        "if __name__ == \"__main__\":\n",
        "    main()"
      ],
      "metadata": {
        "colab": {
          "base_uri": "https://localhost:8080/"
        },
        "id": "RMNUwAZw5hyL",
        "outputId": "269edb52-e869-40e9-870a-35095dfaa43d"
      },
      "id": "RMNUwAZw5hyL",
      "execution_count": null,
      "outputs": [
        {
          "output_type": "stream",
          "name": "stdout",
          "text": [
            "Enter your prompt: create a ballade\n",
            "How many versions? 5\n",
            "\n",
            "Version 1 (temp=0.63):\n",
            "In twilight's hush, where shadows dance and play,\n",
            "Amidst the whispers of a summer breeze,\n",
            "The stars awaken, one by one, to sway,\n",
            "As night's dark veil the world's loud noise releases.\n",
            "The moon, a glowing orb, in silvery light,\n",
            " Illuminates the path, where heart and soul take flight,\n",
            "The world, in darkness, finds a peaceful sight,\n",
            "And in the stillness, love's sweet refrain takes flight, Wild and Free.\n",
            "\n",
            "The night blooming flowers, with fragrance rare,\n",
            "Unfurl their petals, like tender, loving care,\n",
            "Their sweet perfume, a gentle, soothing air,\n",
            "That fills the heart with joy, and banishes all despair.\n",
            "The world, in slumber, finds a peaceful nest,\n",
            "Where love and dreams, in harmony, find rest,\n",
            "The moon's soft light, a guiding, shining crest,\n",
            "Leads us through the night, to love's sweet refrain, Wild and Free.\n",
            "\n",
            "The darkness reigns, with mystery and might,\n",
            "Yet, in its depths, a beauty shines, a guiding light,\n",
            "That leads us through, the darkest, most endless night,\n",
            "To a place, where love, in all its forms, takes flight.\n",
            "The stars above, a twinkling, celestial sea,\n",
            "Reflect the dreams, that in our hearts, are free,\n",
            "The world, in darkness, finds a beauty, wild and carefree,\n",
            "And in the stillness, love's sweet refrain, echoes, Wild and Free.\n",
            "\n",
            "O, gentle heart, with love's sweet fire aglow,\n",
            "Let not the darkness, of the night, our love forego,\n",
            "For in its depths, a beauty, shines, a guiding light, to show,\n",
            "The way, to love's sweet refuge, where hearts, in peace, may grow, Wild and Free.\n",
            "--------------------------------------------------\n",
            "\n",
            "Version 2 (temp=0.98):\n",
            "In twilight's hush, where stars begin to shine, (a)\n",
            "Amidst the night, with love's sweet, secret sign, (b)\n",
            "The world is bathed in lunar, gentle wine, (a)\n",
            "And darkness reigns, with mystery divine. (b)\n",
            "The night blooming flowers, with fragrance rare, (b)\n",
            "Unfurl their petals, and their scent share, (c)\n",
            "The heart beats fast, with love's sweet, tender care, (b)\n",
            "And in this night, my heart is wild and free! (C)\n",
            "\n",
            "The moon above, a glowing crescent shape, (a)\n",
            "Lends magic to the night's enchanted drape, (b)\n",
            "The shadows dance, with steps both swift and late, (a)\n",
            "And in the silence, love's sweet voice does create. (b)\n",
            "The wind whispers low, with gentle, loving tone, (b)\n",
            "And in its sighs, my heart is made to atone, (c)\n",
            "For in this night, my love, you are my own, (b)\n",
            "And in this night, my heart is wild and free! (C)\n",
            "\n",
            "The night's sweet peace, with love's embracing fold, (a)\n",
            "Envelops my heart, with tender, loving hold, (b)\n",
            "The world is full, of love's sweet, secret gold, (a)\n",
            "And in this night, my heart is made of mold. (b)\n",
            "The stars above, a twinkling show display, (b)\n",
            "And in their light, my heart is led astray, (c)\n",
            "For in this night, my love, you are my way, (b)\n",
            "And in this night, my heart is wild and free! (C)\n",
            "\n",
            "O, gentle Love, with heart so true and kind, (b)\n",
            "Let this night be, our love's sweet, secret find, (c)\n",
            "And in its depths, our hearts be forever aligned, (b)\n",
            "And in this night, my heart is wild and free! (C)\n",
            "--------------------------------------------------\n",
            "\n",
            "Version 3 (temp=0.91):\n",
            "In twilight's hush, where shadows softly fall, (a)\n",
            "Amidst the whispers of a summer's breeze, (b)\n",
            "The stars appear, a twinkling hall, (a)\n",
            "Reflecting love's eternal, mystic seas. (b)\n",
            "The world is bathed in lunar, gentle light, (b)\n",
            "As night blooming flowers unfold their sweet surprise, (c)\n",
            "Their fragrance wafts, a heady, scented night, (b)\n",
            "Filling my heart with joy, wild, bright, and free! (C – refrain)\n",
            "\n",
            "The moon, a glowing crescent, smiles so fine, (a)\n",
            " Illuminating paths that wind and twine, (b)\n",
            "Through forests dark, where ancient secrets shine, (a)\n",
            "And magic whispers secrets, yet divine. (b)\n",
            "The night air vibrates with an enchanted rhyme, (b)\n",
            "As dreams and fantasies begin to intertwine, (c)\n",
            "In this sweet realm, my heart beats with a love sublime, (b)\n",
            "Filling my heart with joy, wild, bright, and free! (C – refrain)\n",
            "\n",
            "Yet, fleeting is the night's enchanting spell, (a)\n",
            "And soon the dawn will break, and all will tell, (b)\n",
            "Of love's brief, shining moment, lost in time's knell, (a)\n",
            "Leaving memories, a bittersweet, nostalgic dwell. (b)\n",
            "The stars will fade, the moon will lose its glow, (b)\n",
            "As morning light creeps over the horizon's woe, (c)\n",
            "But still, my heart will hold on to love's sweet flow, (b)\n",
            "Filling my heart with joy, wild, bright, and free! (C – refrain)\n",
            "\n",
            "O gentle Muse, from shadows rise, (b)\n",
            "Let time not steal this love from thee, (c)\n",
            "And crown it with unfading, eternal skies — (b)\n",
            "Filling my heart with joy, wild, bright, and free! (C – refrain)\n",
            "--------------------------------------------------\n",
            "\n",
            "Version 4 (temp=0.70):\n",
            "In twilight's hush, where shadows dance and play,\n",
            "Amidst the trees, a gentle breeze doth sway,\n",
            "The stars appear, like diamonds in the bay,\n",
            "As night's sweet peace descends, and ends the day.\n",
            "The world is bathed in lunar light's pale ray,\n",
            "The heart is filled with longing, love's sweet way,\n",
            "The soul takes flight, on wings of joy and gray,\n",
            "And in the darkness, finds a peaceful stay, Sing now, my heart, wild, bright, and free!\n",
            "\n",
            "The night's dark veil, doth lift, and all's revealed,\n",
            "The moon's pale beams, upon my face do shine,\n",
            "The world's alive, with magic, unrevealed,\n",
            "As in the night, my heart doth entwine.\n",
            "The stars up high, a twinkling show do make,\n",
            "The night's sweet scent, my senses doth awake,\n",
            "The world's a dream, where love and joy do partake,\n",
            "And in the darkness, my heart doth undertake, Sing now, my heart, wild, bright, and free!\n",
            "\n",
            "The dawn's warm light, doth creep, and night's chill fade,\n",
            "The world awakens, from its silent shade,\n",
            "The heart's aflame, with love's sweet, tender aid,\n",
            "As morning's beauty, doth my soul invade.\n",
            "The sun's bright rays, upon my face do shine,\n",
            "The world's alive, with joy, and love's sweet sign,\n",
            "The heart's at peace, in love's sweet, secret shrine,\n",
            "And in the light, my soul doth intertwine, Sing now, my heart, wild, bright, and free!\n",
            "\n",
            "O gentle Muse, with heart so pure and bright,\n",
            "Let love's sweet flame, forever be my guide,\n",
            "And in the darkness, may my heart take flight,\n",
            "Sing now, my heart, wild, bright, and free!\n",
            "--------------------------------------------------\n",
            "\n",
            "Version 5 (temp=0.72):\n",
            "In twilight's hush, where shadows dance and play,\n",
            "Amidst the trees, a gentle breeze does sway,\n",
            "The stars above, a twinkling show display,\n",
            "As night's sweet peace, my weary soul does stay.\n",
            "The world is full of beauty, come what may,\n",
            "The moon's soft light, my heart does gently sway,\n",
            "In this calm hour, I find my heart's sweet way,\n",
            "And in the darkness, I am free to pray.\n",
            "\n",
            "The night's dark veil, does gently lift and sway,\n",
            "The world's loud din, is hushed, and far away,\n",
            "The stars' soft twinkle, does my soul convey,\n",
            "To realms of dreams, where love and joy do stay.\n",
            "The night's sweet peace, my heart does gently sway,\n",
            "The world's loud noise, is silenced, come what may,\n",
            "In this still hour, I find my heart's sweet way,\n",
            "And in the darkness, I am free to pray.\n",
            "\n",
            "The darkness reigns, yet in its depths I find\n",
            "A peaceful calm, that soothes my troubled mind,\n",
            "The stars above, a celestial show design,\n",
            "As night's sweet peace, my soul does gently bind.\n",
            "The world is full of mystery, and unknown design,\n",
            "The moon's soft light, my heart does gently shine,\n",
            "In this calm hour, I find my heart's sweet peace of mind,\n",
            "And in the darkness, I am free to pray and find.\n",
            "\n",
            "O gentle night, thou dost my soul enfold,\n",
            "In thy dark wings, I find a peaceful hold,\n",
            "The stars above, a twinkling show do tell,\n",
            "And in the darkness, I am free to pray and dwell.\n",
            "Sing now, my heart, wild, bright, and free to pray.\n",
            "--------------------------------------------------\n",
            "\n",
            "✅ Результаты сохранены в prompt1.csv\n"
          ]
        }
      ]
    },
    {
      "cell_type": "markdown",
      "source": [
        "Рондо"
      ],
      "metadata": {
        "id": "Y-AoIeBf_69D"
      },
      "id": "Y-AoIeBf_69D"
    },
    {
      "cell_type": "code",
      "source": [
        "# Здеесь и далее выходные данные очищены, результаты можно посмотрете в датасете\n",
        "\n",
        "prompt_number = 2\n",
        "\n",
        "with open(f\"prompt{prompt_number}.txt\", 'r', encoding='utf-8') as f:\n",
        "    database = f.read()\n",
        "filename = f\"results_prompt{prompt_number}.csv\"\n",
        "\n",
        "if __name__ == \"__main__\":\n",
        "    main()"
      ],
      "metadata": {
        "id": "TC9sZBMh60QJ"
      },
      "id": "TC9sZBMh60QJ",
      "execution_count": null,
      "outputs": []
    },
    {
      "cell_type": "markdown",
      "source": [
        "Триолет"
      ],
      "metadata": {
        "id": "E2RZFdVp_-AJ"
      },
      "id": "E2RZFdVp_-AJ"
    },
    {
      "cell_type": "code",
      "source": [
        "prompt_number = 3\n",
        "\n",
        "with open(f\"prompt{prompt_number}.txt\", 'r', encoding='utf-8') as f:\n",
        "    database = f.read()\n",
        "filename = f\"results_prompt{prompt_number}.csv\"\n",
        "\n",
        "if __name__ == \"__main__\":\n",
        "    main()"
      ],
      "metadata": {
        "id": "CYfTMc_g3rZY"
      },
      "id": "CYfTMc_g3rZY",
      "execution_count": null,
      "outputs": []
    },
    {
      "cell_type": "markdown",
      "source": [
        "Октава"
      ],
      "metadata": {
        "id": "HX6V5mfKAQMJ"
      },
      "id": "HX6V5mfKAQMJ"
    },
    {
      "cell_type": "code",
      "source": [
        "prompt_number = 4\n",
        "\n",
        "with open(f\"prompt{prompt_number}.txt\", 'r', encoding='utf-8') as f:\n",
        "    database = f.read()\n",
        "filename = f\"results_prompt{prompt_number}.csv\"\n",
        "\n",
        "if __name__ == \"__main__\":\n",
        "    main()"
      ],
      "metadata": {
        "id": "hsvEKFwG_xi8"
      },
      "id": "hsvEKFwG_xi8",
      "execution_count": null,
      "outputs": []
    },
    {
      "cell_type": "markdown",
      "source": [
        "Итальянский сонет"
      ],
      "metadata": {
        "id": "HvDfkWEuAZtT"
      },
      "id": "HvDfkWEuAZtT"
    },
    {
      "cell_type": "code",
      "source": [
        "prompt_number = 5\n",
        "\n",
        "with open(f\"prompt{prompt_number}.txt\", 'r', encoding='utf-8') as f:\n",
        "    database = f.read()\n",
        "filename = f\"results_prompt{prompt_number}.csv\"\n",
        "\n",
        "if __name__ == \"__main__\":\n",
        "    main()"
      ],
      "metadata": {
        "id": "5m2-LSntAR4x"
      },
      "id": "5m2-LSntAR4x",
      "execution_count": null,
      "outputs": []
    },
    {
      "cell_type": "markdown",
      "source": [
        "Французский сонет"
      ],
      "metadata": {
        "id": "Guh-oDvGAdOG"
      },
      "id": "Guh-oDvGAdOG"
    },
    {
      "cell_type": "code",
      "source": [
        "prompt_number = 6\n",
        "\n",
        "with open(f\"prompt{prompt_number}.txt\", 'r', encoding='utf-8') as f:\n",
        "    database = f.read()\n",
        "filename = f\"results_prompt{prompt_number}.csv\"\n",
        "\n",
        "if __name__ == \"__main__\":\n",
        "    main()"
      ],
      "metadata": {
        "id": "kjd1i4MyAeWz"
      },
      "id": "kjd1i4MyAeWz",
      "execution_count": null,
      "outputs": []
    },
    {
      "cell_type": "markdown",
      "source": [
        "Английский сонет"
      ],
      "metadata": {
        "id": "2k0dMcyyAe0A"
      },
      "id": "2k0dMcyyAe0A"
    },
    {
      "cell_type": "code",
      "source": [
        "prompt_number = 7\n",
        "\n",
        "with open(f\"prompt{prompt_number}.txt\", 'r', encoding='utf-8') as f:\n",
        "    database = f.read()\n",
        "filename = f\"results_prompt{prompt_number}.csv\"\n",
        "\n",
        "if __name__ == \"__main__\":\n",
        "    main()"
      ],
      "metadata": {
        "id": "Z1O8oXAeAf_t"
      },
      "id": "Z1O8oXAeAf_t",
      "execution_count": null,
      "outputs": []
    },
    {
      "cell_type": "markdown",
      "source": [
        "Одическая строфа"
      ],
      "metadata": {
        "id": "Y2mlLNykAgst"
      },
      "id": "Y2mlLNykAgst"
    },
    {
      "cell_type": "code",
      "source": [
        "prompt_number = 8\n",
        "\n",
        "with open(f\"prompt{prompt_number}.txt\", 'r', encoding='utf-8') as f:\n",
        "    database = f.read()\n",
        "filename = f\"results_prompt{prompt_number}.csv\"\n",
        "\n",
        "if __name__ == \"__main__\":\n",
        "    main()"
      ],
      "metadata": {
        "id": "yIOEofuCAjld"
      },
      "id": "yIOEofuCAjld",
      "execution_count": null,
      "outputs": []
    },
    {
      "cell_type": "markdown",
      "source": [
        "Элегический дистих"
      ],
      "metadata": {
        "id": "rbOmnMfIAj69"
      },
      "id": "rbOmnMfIAj69"
    },
    {
      "cell_type": "code",
      "source": [
        "prompt_number = 9\n",
        "\n",
        "with open(f\"prompt{prompt_number}.txt\", 'r', encoding='utf-8') as f:\n",
        "    database = f.read()\n",
        "filename = f\"results_prompt{prompt_number}.csv\"\n",
        "\n",
        "if __name__ == \"__main__\":\n",
        "    main()"
      ],
      "metadata": {
        "id": "NqwhahWsAmkN"
      },
      "id": "NqwhahWsAmkN",
      "execution_count": null,
      "outputs": []
    },
    {
      "cell_type": "markdown",
      "source": [
        "Хайку"
      ],
      "metadata": {
        "id": "Xr5a4wgEAtmj"
      },
      "id": "Xr5a4wgEAtmj"
    },
    {
      "cell_type": "code",
      "source": [
        "prompt_number = 10\n",
        "\n",
        "with open(f\"prompt{prompt_number}.txt\", 'r', encoding='utf-8') as f:\n",
        "    database = f.read()\n",
        "filename = f\"results_prompt{prompt_number}.csv\"\n",
        "\n",
        "if __name__ == \"__main__\":\n",
        "    main()"
      ],
      "metadata": {
        "id": "D6r389EKAq7a"
      },
      "id": "D6r389EKAq7a",
      "execution_count": null,
      "outputs": []
    },
    {
      "cell_type": "markdown",
      "source": [
        "Танка"
      ],
      "metadata": {
        "id": "VQ0fMQjsAwgI"
      },
      "id": "VQ0fMQjsAwgI"
    },
    {
      "cell_type": "code",
      "source": [
        "prompt_number = 11\n",
        "\n",
        "with open(f\"prompt{prompt_number}.txt\", 'r', encoding='utf-8') as f:\n",
        "    database = f.read()\n",
        "filename = f\"results_prompt{prompt_number}.csv\"\n",
        "\n",
        "if __name__ == \"__main__\":\n",
        "    main()"
      ],
      "metadata": {
        "id": "3vEAaxVZAxdL"
      },
      "id": "3vEAaxVZAxdL",
      "execution_count": null,
      "outputs": []
    },
    {
      "cell_type": "markdown",
      "source": [
        "Синквейн"
      ],
      "metadata": {
        "id": "C1KNpt3FAyx9"
      },
      "id": "C1KNpt3FAyx9"
    },
    {
      "cell_type": "code",
      "source": [
        "prompt_number = 12\n",
        "\n",
        "with open(f\"prompt{prompt_number}.txt\", 'r', encoding='utf-8') as f:\n",
        "    database = f.read()\n",
        "filename = f\"results_prompt{prompt_number}.csv\"\n",
        "\n",
        "if __name__ == \"__main__\":\n",
        "    main()"
      ],
      "metadata": {
        "id": "ktR43We8A0BT"
      },
      "id": "ktR43We8A0BT",
      "execution_count": null,
      "outputs": []
    },
    {
      "cell_type": "markdown",
      "source": [
        "Объединение результатов в один csv"
      ],
      "metadata": {
        "id": "hDTt1OZ3Gs6d"
      },
      "id": "hDTt1OZ3Gs6d"
    },
    {
      "cell_type": "code",
      "source": [
        "merged_data = pd.DataFrame()\n",
        "\n",
        "for i in range(1, 13):\n",
        "    filename = f'results_prompt{i}.csv'\n",
        "    df = pd.read_csv(filename)\n",
        "    merged_data = pd.concat([merged_data, df])\n",
        "\n",
        "merged_data.to_csv('merged_results_en.csv', index=False)"
      ],
      "metadata": {
        "id": "uVx2LPwyGsdn"
      },
      "id": "uVx2LPwyGsdn",
      "execution_count": null,
      "outputs": []
    }
  ],
  "metadata": {
    "kernelspec": {
      "display_name": "SBERT Env",
      "language": "python",
      "name": "sbert-env"
    },
    "language_info": {
      "codemirror_mode": {
        "name": "ipython",
        "version": 3
      },
      "file_extension": ".py",
      "mimetype": "text/x-python",
      "name": "python",
      "nbconvert_exporter": "python",
      "pygments_lexer": "ipython3",
      "version": "3.10.16"
    },
    "colab": {
      "provenance": []
    }
  },
  "nbformat": 4,
  "nbformat_minor": 5
}
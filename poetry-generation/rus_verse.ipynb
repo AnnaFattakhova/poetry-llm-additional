{
  "cells": [
    {
      "cell_type": "code",
      "source": [
        "# Устанавливаем Groq и импортируем необходимые библиотеки\n",
        "\n",
        "!pip install groq\n",
        "from groq import Groq\n",
        "\n",
        "import re\n",
        "import random\n",
        "import requests\n",
        "import json\n",
        "import time\n",
        "import pandas as pd"
      ],
      "metadata": {
        "colab": {
          "base_uri": "https://localhost:8080/"
        },
        "id": "VmEXjDRg24mH",
        "outputId": "4f4bb045-f815-4a56-e4c7-e8f875edbe99"
      },
      "id": "VmEXjDRg24mH",
      "execution_count": null,
      "outputs": [
        {
          "output_type": "stream",
          "name": "stdout",
          "text": [
            "Requirement already satisfied: groq in /usr/local/lib/python3.11/dist-packages (0.25.0)\n",
            "Requirement already satisfied: anyio<5,>=3.5.0 in /usr/local/lib/python3.11/dist-packages (from groq) (4.9.0)\n",
            "Requirement already satisfied: distro<2,>=1.7.0 in /usr/local/lib/python3.11/dist-packages (from groq) (1.9.0)\n",
            "Requirement already satisfied: httpx<1,>=0.23.0 in /usr/local/lib/python3.11/dist-packages (from groq) (0.28.1)\n",
            "Requirement already satisfied: pydantic<3,>=1.9.0 in /usr/local/lib/python3.11/dist-packages (from groq) (2.11.4)\n",
            "Requirement already satisfied: sniffio in /usr/local/lib/python3.11/dist-packages (from groq) (1.3.1)\n",
            "Requirement already satisfied: typing-extensions<5,>=4.10 in /usr/local/lib/python3.11/dist-packages (from groq) (4.13.2)\n",
            "Requirement already satisfied: idna>=2.8 in /usr/local/lib/python3.11/dist-packages (from anyio<5,>=3.5.0->groq) (3.10)\n",
            "Requirement already satisfied: certifi in /usr/local/lib/python3.11/dist-packages (from httpx<1,>=0.23.0->groq) (2025.4.26)\n",
            "Requirement already satisfied: httpcore==1.* in /usr/local/lib/python3.11/dist-packages (from httpx<1,>=0.23.0->groq) (1.0.9)\n",
            "Requirement already satisfied: h11>=0.16 in /usr/local/lib/python3.11/dist-packages (from httpcore==1.*->httpx<1,>=0.23.0->groq) (0.16.0)\n",
            "Requirement already satisfied: annotated-types>=0.6.0 in /usr/local/lib/python3.11/dist-packages (from pydantic<3,>=1.9.0->groq) (0.7.0)\n",
            "Requirement already satisfied: pydantic-core==2.33.2 in /usr/local/lib/python3.11/dist-packages (from pydantic<3,>=1.9.0->groq) (2.33.2)\n",
            "Requirement already satisfied: typing-inspection>=0.4.0 in /usr/local/lib/python3.11/dist-packages (from pydantic<3,>=1.9.0->groq) (0.4.0)\n"
          ]
        }
      ]
    },
    {
      "cell_type": "code",
      "source": [
        "api_key='api_key'\n",
        "client = Groq(api_key=api_key)"
      ],
      "metadata": {
        "id": "AZATCRgUcTmt"
      },
      "id": "AZATCRgUcTmt",
      "execution_count": null,
      "outputs": []
    },
    {
      "cell_type": "code",
      "source": [
        "# Системный промпт и база данных\n",
        "with open('/content/prompt_ru_rhytm.txt', 'r', encoding='utf-8') as f:\n",
        "    system_prompt = f.read()\n",
        "\n",
        "# Настройки Groq API\n",
        "model = \"llama-3.3-70b-versatile\"\n",
        "API_URL = \"https://api.groq.com/openai/v1/chat/completions\""
      ],
      "metadata": {
        "id": "WRGbjQIKxU2o"
      },
      "id": "WRGbjQIKxU2o",
      "execution_count": null,
      "outputs": []
    },
    {
      "cell_type": "code",
      "source": [
        "def generate_with_groq(prompt_text, temperature):\n",
        "    \"\"\"Функция для генерации текста через Groq API\"\"\"\n",
        "    messages = [\n",
        "        {\"role\": \"system\", \"content\": system_prompt + database},\n",
        "        {\"role\": \"user\", \"content\": prompt_text}\n",
        "    ]\n",
        "\n",
        "    headers = {\n",
        "        \"Authorization\": f\"Bearer {api_key}\",\n",
        "        \"Content-Type\": \"application/json\"\n",
        "    }\n",
        "\n",
        "    data = {\n",
        "        \"messages\": messages,\n",
        "        \"model\": model,\n",
        "        \"temperature\": temperature,\n",
        "        \"max_tokens\": 1024,\n",
        "    }\n",
        "\n",
        "    response = requests.post(API_URL, headers=headers, json=data)\n",
        "\n",
        "    if response.status_code == 200:\n",
        "        result = response.json()\n",
        "        return result['choices'][0]['message']['content']\n",
        "    else:\n",
        "        raise Exception(f\"API Error: {response.status_code}, {response.text}\")\n",
        "\n",
        "def main():\n",
        "    # Ввод параметров\n",
        "    prompt_text = input(\"Enter your prompt: \")\n",
        "    num_generations = int(input(\"How many versions? \"))\n",
        "\n",
        "    # Создаем DataFrame для хранения результатов\n",
        "    results_df = pd.DataFrame(columns=[\n",
        "        'promt',\n",
        "        'temperature',\n",
        "        'result'\n",
        "    ])\n",
        "\n",
        "    for i in range(num_generations):\n",
        "        try:\n",
        "            # Генерация случайной температуры\n",
        "            current_temp = random.uniform(0.4, 1.0)\n",
        "            output = generate_with_groq(prompt_text, current_temp)\n",
        "\n",
        "            # Парсинг результата\n",
        "            matches = re.findall(r'<start_of_turn>(.*?)<end_of_turn>', output, re.DOTALL)\n",
        "            result_text = matches[1] if len(matches) > 1 else output\n",
        "\n",
        "            # Добавляем результат в DataFrame\n",
        "            results_df.loc[len(results_df)] = [\n",
        "                prompt_text,\n",
        "                round(current_temp, 2),\n",
        "                result_text\n",
        "            ]\n",
        "\n",
        "            print(f\"\\nVersion {i+1} (temp={current_temp:.2f}):\")\n",
        "            print(result_text)\n",
        "            print(\"-\"*50)\n",
        "\n",
        "\n",
        "        except Exception as e:\n",
        "            print(f\"Generation error: {str(e)}\")\n",
        "\n",
        "            # Обработка ошибки лимитов токенов Groq\n",
        "            if hasattr(e, 'args') and len(e.args) > 0 and \"Rate limit reached for model\" in str(e.args[0]):\n",
        "                try:\n",
        "                    # Парсим JSON\n",
        "                    error_data = eval(str(e).split(\"API Error: 429, \")[1])\n",
        "                    wait_time = float(error_data['error']['message'].split(\"try again in \")[1].split(\"s.\")[0])\n",
        "\n",
        "                    # Запас 0.5 сек\n",
        "                    wait_time += 0.5\n",
        "                    print(f\"You've reached token limit. Waiting {wait_time:.2f} sec...\")\n",
        "\n",
        "                    time.sleep(wait_time)\n",
        "                    i -= 1  # Повторяем текущую итерацию\n",
        "                    continue\n",
        "                except Exception as parse_error:\n",
        "                    # Если не удалось спарсить, ждем 60 сек\n",
        "                    print(f\"Failed to parse waiting time: {parse_error}. Waiting 60 sec...\")\n",
        "                    time.sleep(60)\n",
        "                    i -= 1\n",
        "                    continue\n",
        "\n",
        "    # Сохранение в CSV\n",
        "    results_df.to_csv(filename, index=False, encoding='utf-8-sig')\n",
        "    print(f\"\\nResults saved in {filename}\")"
      ],
      "metadata": {
        "id": "QzUape3A8dJl"
      },
      "id": "QzUape3A8dJl",
      "execution_count": null,
      "outputs": []
    },
    {
      "cell_type": "markdown",
      "source": [
        "Баллада"
      ],
      "metadata": {
        "id": "-lULsI9W5i95"
      },
      "id": "-lULsI9W5i95"
    },
    {
      "cell_type": "code",
      "source": [
        "prompt_number = 1\n",
        "\n",
        "with open(f\"prompt{prompt_number}.txt\", 'r', encoding='utf-8') as f:\n",
        "    database = f.read()\n",
        "filename = f\"results_prompt{prompt_number}.csv\"\n",
        "\n",
        "if __name__ == \"__main__\":\n",
        "    main()"
      ],
      "metadata": {
        "colab": {
          "base_uri": "https://localhost:8080/"
        },
        "id": "RMNUwAZw5hyL",
        "outputId": "2fbe9fee-ef71-42ac-ab8c-0cd0b2c15975"
      },
      "id": "RMNUwAZw5hyL",
      "execution_count": null,
      "outputs": [
        {
          "output_type": "stream",
          "name": "stdout",
          "text": [
            "Enter your prompt: напиши балладу\n",
            "How many versions? 5\n",
            "\n",
            "Version 1 (temp=0.62):\n",
            "В мире, где любовь и веселье царят,\n",
            "Аб\n",
            "Где солнце светит ярко, и сердца поют,\n",
            "Б\n",
            "И каждый момент наполнен радостью и светом,\n",
            "Б\n",
            "Мы танцуем и поем, без забот и страха,\n",
            "Ц\n",
            "И наши души взлетают, как птицы в полете,\n",
            "Б\n",
            "Свободно и легко, без оков и цепей,\n",
            "Б\n",
            "И в этом мире мы находим свой покой,\n",
            "Ц\n",
            "И наши сердца бьют в такт с любовью и свободой.\n",
            "\n",
            "Аб\n",
            "В этом мире мы находим свою мечту,\n",
            "Б\n",
            "Где каждый момент наполнен смыслом и значением,\n",
            "Б\n",
            "И каждый шаг ведет нас к новым открытиям,\n",
            "Б\n",
            "И наши души наполняются радостью и светом,\n",
            "Ц\n",
            "И мы чувствуем себя живыми, и наш дух растет,\n",
            "Б\n",
            "И наши сердца бьют в такт с любовью и свободой,\n",
            "Б\n",
            "И в этом мире мы находим свой вечный покой,\n",
            "Ц\n",
            "И наши сердца бьют в такт с любовью и свободой.\n",
            "\n",
            "Аб\n",
            "Но время идет, и моменты улетучиваются,\n",
            "Б\n",
            "И мы должны дорожить каждым мгновением,\n",
            "Б\n",
            "И хранить их в сердце, как драгоценный клад,\n",
            "Б\n",
            "И помнить о любви и радости, что мы знали,\n",
            "Ц\n",
            "И наши сердца бьют в такт с любовью и свободой,\n",
            "Б\n",
            "И мы чувствуем себя живыми, и наш дух растет,\n",
            "Б\n",
            "И в этом мире мы находим свой вечный покой,\n",
            "Ц\n",
            "И наши сердца бьют в такт с любовью и свободой.\n",
            "\n",
            "Б\n",
            "О, любимая, не забудь меня,\n",
            "Ц\n",
            "И храни меня в сердце, как драгоценный клад,\n",
            "Б\n",
            "И помни о любви и радости, что мы знали,\n",
            "Ц\n",
            "И наши сердца бьют в такт с любовью и свободой.\n",
            "--------------------------------------------------\n",
            "\n",
            "Version 2 (temp=0.91):\n",
            "Вот моя попытка написать балладу:\n",
            "\n",
            "В сумерках, где тени танцуют,\n",
            "Золотой месяц светит ярко, (a)\n",
            "Ночная песня эхом звучит, (b)\n",
            "И сердце мое поет в такт, (a)\n",
            "Как звезды в небе мерцают, (b)\n",
            "И лунный свет на море играет, (c)\n",
            "Волны шепчут тайны земли, (b)\n",
            "И я пою, моя душа взлетает! (C – рефрен)\n",
            "\n",
            "В полночном часе, где тьма царит,\n",
            "Сердце мое бьется с любимой, (a)\n",
            "Наша любовь – маяк в бурной ночи, (b)\n",
            "И наши губы шепчут сладкие слова, (a)\n",
            "Как розы цветут в саду любви, (b)\n",
            "И наша страсть разгорается, как пламя, (c)\n",
            "В наших объятиях найден мир, (b)\n",
            "И я пою, моя душа взлетает! (C – рефрен)\n",
            "\n",
            "В рассветном свете, где новый день,\n",
            "Наша любовь – это песня сердца, (a)\n",
            "И наши души связаны навсегда, (b)\n",
            "И наша любовь – это бессмертный огонь, (a)\n",
            "Как солнце восходит над землей, (b)\n",
            "И наша любовь сияет, как утренняя звезда, (c)\n",
            "В наших любящих сердцах мы найдем покой, (b)\n",
            "И я пою, моя душа взлетает! (C – рефрен)\n",
            "\n",
            "О, прекрасная муза, не забывай,\n",
            "Мою песню любви, мою душу, (b)\n",
            "И пусть наша любовь будет навсегда, (c)\n",
            "И я пою, моя душа взлетает! (C – рефрен)\n",
            "\n",
            "Примечание: я следовал структуре и рифмовой схеме баллады, и использовал лексику из столбца \"Lexicon\" базы данных. Стихотворение состоит из трех стансов по 8 строк, и завершающего четверостишия (envoi). Рефрен (\"И я пою, моя душа взлетает!\") повторяется в конце каждого станса и envoi.\n",
            "--------------------------------------------------\n",
            "\n",
            "Version 3 (temp=0.99):\n",
            "Вот баллада, написанная в соответствии с формальными требованиями и структурой, указанной в базе данных:\n",
            "\n",
            "В мире, где любовь и весна цветут, (а)\n",
            "Молодые сердца начинают петь, (б)\n",
            "Их голоса, как птицы, ласковы и светлы, (а)\n",
            "Наполнены надеждой и радостью, что зреют. (б)\n",
            "Теплые ветры шепчут через деревья, (б)\n",
            "И дарят жизнь цветам, которые еще спят, (с)\n",
            "И в этом мире, полном красоты, (б)\n",
            "Мое сердце поет, дико, ярко и свободно! (С – рефрен)\n",
            "\n",
            "В эту пору, когда любовь и страсть горят, (а)\n",
            "И сердца бьются быстро, как биться могут, (б)\n",
            "Мы находим радость в объятиях любимых, (а)\n",
            "И наши души соединяются в любви, что светит. (б)\n",
            "Мир вокруг нас, полный чуда и мощи, (б)\n",
            "Наполняет наши сердца благодарностью и светом, (с)\n",
            "И в этой любви, что нас объединяет, (б)\n",
            "Мое сердце поет, дико, ярко и свободно! (С – рефрен)\n",
            "\n",
            "Но как сезоны приходят и уходят, (а)\n",
            "И любовь, как цветы, расцветает и увядает, (б)\n",
            "Мы должны дорожить каждым моментом, (а)\n",
            "И хранить любовь, что остается, не изменяя. (б)\n",
            "Ибо в жизни, полной изменений и шума, (б)\n",
            "Любовь – это постоянный свет, что ведет нас, (с)\n",
            "И в этом свете, что нас греет и зажигает, (б)\n",
            "Мое сердце поет, дико, ярко и свободно! (С – рефрен)\n",
            "\n",
            "О, моя любимая, не забывай меня, (б)\n",
            "И не позволяй времени стереть нашу любовь, (с)\n",
            "Ибо в моем сердце, ты всегда будешь, (б)\n",
            "И мое сердце поет, дико, ярко и свободно! (С – рефрен)\n",
            "--------------------------------------------------\n",
            "Generation error: API Error: 429, {\"error\":{\"message\":\"Rate limit reached for model `llama-3.3-70b-versatile` in organization `org_01jswjmzp1f13tqewa46j5c80t` service tier `on_demand` on tokens per minute (TPM): Limit 12000, Used 9883, Requested 3332. Please try again in 6.072999999s. Need more tokens? Upgrade to Dev Tier today at https://console.groq.com/settings/billing\",\"type\":\"tokens\",\"code\":\"rate_limit_exceeded\"}}\n",
            "\n",
            "You've reached token limit. Waiting 6.57 sec...\n",
            "\n",
            "Version 5 (temp=0.84):\n",
            "Вот моя попытка написать балладу:\n",
            "\n",
            "В утреннем свете, когда роса блестит,\n",
            "Нежный ветер шепчет тайны мне.\n",
            "Лепестки цветов начинают расцвести,\n",
            "И мир пробуждается от зимнего сна.\n",
            "\n",
            "Через поля, где дикие цветы качаются,\n",
            "Я иду, следуя за путью любви.\n",
            "Мой сердце бьется быстро, как крылья птицы,\n",
            "Когда я вижу тебя, мою душу, мою любовь.\n",
            "\n",
            "Но, увы, наша любовь - это пламя,\n",
            "Которое горит ярко, но недолго.\n",
            "Оно согревает нас, но также приносит боль,\n",
            "И оставляет нас сnothing, кроме воспоминаний.\n",
            "\n",
            "О, мой дорогой друг, не оставляй меня,\n",
            "В этом мире, где любовь - это игра.\n",
            "Оставайся со мной, и пусть наша любовь\n",
            "Будет нашей опорой, нашим светом в темноте.\n",
            "\n",
            "В этом заключении, я обращаюсь к тебе,\n",
            "О, мой друг, не забывай нашу любовь.\n",
            "Пусть она будет нашей силой, нашей надеждой,\n",
            "И пусть мы будем вместе, навсегда.\n",
            "\n",
            "(Примечание: я следовал структуре баллады, с тремя строфами по 8 строк и заключением по 4 строки, и использовал рифмовую схему ababbcbC. Я также попытался сохранить музыкальность и ритмичность языка, и использовать лексику из соответствующего столбца \"Lexicon\".)\n",
            "--------------------------------------------------\n",
            "\n",
            "Results saved in results_prompt1.csv\n"
          ]
        }
      ]
    },
    {
      "cell_type": "markdown",
      "source": [
        "Рондо"
      ],
      "metadata": {
        "id": "Y-AoIeBf_69D"
      },
      "id": "Y-AoIeBf_69D"
    },
    {
      "cell_type": "code",
      "source": [
        "# Здеесь и далее выходные данные очищены, результаты можно посмотрете в датасете\n",
        "\n",
        "prompt_number = 2\n",
        "\n",
        "with open(f\"prompt{prompt_number}.txt\", 'r', encoding='utf-8') as f:\n",
        "    database = f.read()\n",
        "filename = f\"results_prompt{prompt_number}.csv\"\n",
        "\n",
        "if __name__ == \"__main__\":\n",
        "    main()"
      ],
      "metadata": {
        "id": "TC9sZBMh60QJ"
      },
      "id": "TC9sZBMh60QJ",
      "execution_count": null,
      "outputs": []
    },
    {
      "cell_type": "markdown",
      "source": [
        "Триолет"
      ],
      "metadata": {
        "id": "E2RZFdVp_-AJ"
      },
      "id": "E2RZFdVp_-AJ"
    },
    {
      "cell_type": "code",
      "source": [
        "prompt_number = 3\n",
        "\n",
        "with open(f\"prompt{prompt_number}.txt\", 'r', encoding='utf-8') as f:\n",
        "    database = f.read()\n",
        "filename = f\"results_prompt{prompt_number}.csv\"\n",
        "\n",
        "if __name__ == \"__main__\":\n",
        "    main()"
      ],
      "metadata": {
        "id": "CYfTMc_g3rZY"
      },
      "id": "CYfTMc_g3rZY",
      "execution_count": null,
      "outputs": []
    },
    {
      "cell_type": "markdown",
      "source": [
        "Октава"
      ],
      "metadata": {
        "id": "HX6V5mfKAQMJ"
      },
      "id": "HX6V5mfKAQMJ"
    },
    {
      "cell_type": "code",
      "source": [
        "prompt_number = 4\n",
        "\n",
        "with open(f\"prompt{prompt_number}.txt\", 'r', encoding='utf-8') as f:\n",
        "    database = f.read()\n",
        "filename = f\"results_prompt{prompt_number}.csv\"\n",
        "\n",
        "if __name__ == \"__main__\":\n",
        "    main()"
      ],
      "metadata": {
        "id": "hsvEKFwG_xi8"
      },
      "id": "hsvEKFwG_xi8",
      "execution_count": null,
      "outputs": []
    },
    {
      "cell_type": "markdown",
      "source": [
        "Итальянский сонет"
      ],
      "metadata": {
        "id": "HvDfkWEuAZtT"
      },
      "id": "HvDfkWEuAZtT"
    },
    {
      "cell_type": "code",
      "source": [
        "prompt_number = 5\n",
        "\n",
        "with open(f\"prompt{prompt_number}.txt\", 'r', encoding='utf-8') as f:\n",
        "    database = f.read()\n",
        "filename = f\"results_prompt{prompt_number}.csv\"\n",
        "\n",
        "if __name__ == \"__main__\":\n",
        "    main()"
      ],
      "metadata": {
        "id": "5m2-LSntAR4x"
      },
      "id": "5m2-LSntAR4x",
      "execution_count": null,
      "outputs": []
    },
    {
      "cell_type": "markdown",
      "source": [
        "Французский сонет"
      ],
      "metadata": {
        "id": "Guh-oDvGAdOG"
      },
      "id": "Guh-oDvGAdOG"
    },
    {
      "cell_type": "code",
      "source": [
        "prompt_number = 6\n",
        "\n",
        "with open(f\"prompt{prompt_number}.txt\", 'r', encoding='utf-8') as f:\n",
        "    database = f.read()\n",
        "filename = f\"results_prompt{prompt_number}.csv\"\n",
        "\n",
        "if __name__ == \"__main__\":\n",
        "    main()"
      ],
      "metadata": {
        "id": "kjd1i4MyAeWz"
      },
      "id": "kjd1i4MyAeWz",
      "execution_count": null,
      "outputs": []
    },
    {
      "cell_type": "markdown",
      "source": [
        "Английский сонет"
      ],
      "metadata": {
        "id": "2k0dMcyyAe0A"
      },
      "id": "2k0dMcyyAe0A"
    },
    {
      "cell_type": "code",
      "source": [
        "prompt_number = 7\n",
        "\n",
        "with open(f\"prompt{prompt_number}.txt\", 'r', encoding='utf-8') as f:\n",
        "    database = f.read()\n",
        "filename = f\"results_prompt{prompt_number}.csv\"\n",
        "\n",
        "if __name__ == \"__main__\":\n",
        "    main()"
      ],
      "metadata": {
        "id": "Z1O8oXAeAf_t"
      },
      "id": "Z1O8oXAeAf_t",
      "execution_count": null,
      "outputs": []
    },
    {
      "cell_type": "code",
      "source": [
        "prompt_number = 7\n",
        "\n",
        "with open(f\"prompt{prompt_number}.txt\", 'r', encoding='utf-8') as f:\n",
        "    database = f.read()\n",
        "filename = f\"results_prompt{prompt_number}_1.csv\"\n",
        "\n",
        "if __name__ == \"__main__\":\n",
        "    main()"
      ],
      "metadata": {
        "id": "nid5z8fbgIFe"
      },
      "id": "nid5z8fbgIFe",
      "execution_count": null,
      "outputs": []
    },
    {
      "cell_type": "markdown",
      "source": [
        "Одическая строфа"
      ],
      "metadata": {
        "id": "Y2mlLNykAgst"
      },
      "id": "Y2mlLNykAgst"
    },
    {
      "cell_type": "code",
      "source": [
        "prompt_number = 8\n",
        "\n",
        "with open(f\"prompt{prompt_number}.txt\", 'r', encoding='utf-8') as f:\n",
        "    database = f.read()\n",
        "filename = f\"results_prompt{prompt_number}.csv\"\n",
        "\n",
        "if __name__ == \"__main__\":\n",
        "    main()"
      ],
      "metadata": {
        "id": "yIOEofuCAjld"
      },
      "id": "yIOEofuCAjld",
      "execution_count": null,
      "outputs": []
    },
    {
      "cell_type": "markdown",
      "source": [
        "Элегический дистих"
      ],
      "metadata": {
        "id": "rbOmnMfIAj69"
      },
      "id": "rbOmnMfIAj69"
    },
    {
      "cell_type": "code",
      "source": [
        "prompt_number = 9\n",
        "\n",
        "with open(f\"prompt{prompt_number}.txt\", 'r', encoding='utf-8') as f:\n",
        "    database = f.read()\n",
        "filename = f\"results_prompt{prompt_number}.csv\"\n",
        "\n",
        "if __name__ == \"__main__\":\n",
        "    main()"
      ],
      "metadata": {
        "id": "NqwhahWsAmkN"
      },
      "id": "NqwhahWsAmkN",
      "execution_count": null,
      "outputs": []
    },
    {
      "cell_type": "markdown",
      "source": [
        "Хайку"
      ],
      "metadata": {
        "id": "Xr5a4wgEAtmj"
      },
      "id": "Xr5a4wgEAtmj"
    },
    {
      "cell_type": "code",
      "source": [
        "prompt_number = 10\n",
        "\n",
        "with open(f\"prompt{prompt_number}.txt\", 'r', encoding='utf-8') as f:\n",
        "    database = f.read()\n",
        "filename = f\"results_prompt{prompt_number}_h.csv\"\n",
        "\n",
        "if __name__ == \"__main__\":\n",
        "    main()"
      ],
      "metadata": {
        "id": "4mCGXDUhwM81"
      },
      "id": "4mCGXDUhwM81",
      "execution_count": null,
      "outputs": []
    },
    {
      "cell_type": "markdown",
      "source": [
        "Танка"
      ],
      "metadata": {
        "id": "VQ0fMQjsAwgI"
      },
      "id": "VQ0fMQjsAwgI"
    },
    {
      "cell_type": "code",
      "source": [
        "prompt_number = 11\n",
        "\n",
        "with open(f\"prompt{prompt_number}.txt\", 'r', encoding='utf-8') as f:\n",
        "    database = f.read()\n",
        "filename = f\"results_prompt{prompt_number}_t.csv\"\n",
        "\n",
        "if __name__ == \"__main__\":\n",
        "    main()"
      ],
      "metadata": {
        "id": "_VAJZuoOwanF"
      },
      "id": "_VAJZuoOwanF",
      "execution_count": null,
      "outputs": []
    },
    {
      "cell_type": "markdown",
      "source": [
        "Синквейн"
      ],
      "metadata": {
        "id": "C1KNpt3FAyx9"
      },
      "id": "C1KNpt3FAyx9"
    },
    {
      "cell_type": "code",
      "source": [
        "prompt_number = 12\n",
        "\n",
        "with open(f\"prompt{prompt_number}.txt\", 'r', encoding='utf-8') as f:\n",
        "    database = f.read()\n",
        "filename = f\"results_prompt{prompt_number}.csv\"\n",
        "\n",
        "if __name__ == \"__main__\":\n",
        "    main()"
      ],
      "metadata": {
        "id": "ktR43We8A0BT"
      },
      "id": "ktR43We8A0BT",
      "execution_count": null,
      "outputs": []
    },
    {
      "cell_type": "markdown",
      "source": [
        "Объединение результатов в один csv"
      ],
      "metadata": {
        "id": "hDTt1OZ3Gs6d"
      },
      "id": "hDTt1OZ3Gs6d"
    },
    {
      "cell_type": "code",
      "source": [
        "merged_data = pd.DataFrame()\n",
        "\n",
        "for i in range(1, 11):\n",
        "    filename = f'results_prompt{i}.csv'\n",
        "    df = pd.read_csv(filename)\n",
        "    merged_data = pd.concat([merged_data, df])\n",
        "\n",
        "merged_data.to_csv('merged_results_rus.csv', index=False)"
      ],
      "metadata": {
        "id": "uVx2LPwyGsdn"
      },
      "id": "uVx2LPwyGsdn",
      "execution_count": null,
      "outputs": []
    }
  ],
  "metadata": {
    "kernelspec": {
      "display_name": "SBERT Env",
      "language": "python",
      "name": "sbert-env"
    },
    "language_info": {
      "codemirror_mode": {
        "name": "ipython",
        "version": 3
      },
      "file_extension": ".py",
      "mimetype": "text/x-python",
      "name": "python",
      "nbconvert_exporter": "python",
      "pygments_lexer": "ipython3",
      "version": "3.10.16"
    },
    "colab": {
      "provenance": []
    }
  },
  "nbformat": 4,
  "nbformat_minor": 5
}
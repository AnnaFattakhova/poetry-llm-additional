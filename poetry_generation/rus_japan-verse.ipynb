{
  "cells": [
    {
      "cell_type": "markdown",
      "metadata": {
        "id": "view-in-github",
        "colab_type": "text"
      },
      "source": [
        "<a href=\"https://colab.research.google.com/github/AnnaFattakhova/poetry-llm-additional/blob/main/poetry_generation/rus_japan-verse.ipynb\" target=\"_parent\"><img src=\"https://colab.research.google.com/assets/colab-badge.svg\" alt=\"Open In Colab\"/></a>"
      ]
    },
    {
      "cell_type": "code",
      "source": [
        "!pip install groq # Устанавливаем Groq\n",
        "from groq import Groq\n",
        "\n",
        "client = Groq(api_key=api_key)"
      ],
      "metadata": {
        "colab": {
          "base_uri": "https://localhost:8080/"
        },
        "id": "VmEXjDRg24mH",
        "outputId": "ea6fccdf-3325-4959-918b-bc9c796c3950"
      },
      "id": "VmEXjDRg24mH",
      "execution_count": 30,
      "outputs": [
        {
          "output_type": "stream",
          "name": "stdout",
          "text": [
            "Requirement already satisfied: groq in /usr/local/lib/python3.11/dist-packages (0.25.0)\n",
            "Requirement already satisfied: anyio<5,>=3.5.0 in /usr/local/lib/python3.11/dist-packages (from groq) (4.9.0)\n",
            "Requirement already satisfied: distro<2,>=1.7.0 in /usr/local/lib/python3.11/dist-packages (from groq) (1.9.0)\n",
            "Requirement already satisfied: httpx<1,>=0.23.0 in /usr/local/lib/python3.11/dist-packages (from groq) (0.28.1)\n",
            "Requirement already satisfied: pydantic<3,>=1.9.0 in /usr/local/lib/python3.11/dist-packages (from groq) (2.11.4)\n",
            "Requirement already satisfied: sniffio in /usr/local/lib/python3.11/dist-packages (from groq) (1.3.1)\n",
            "Requirement already satisfied: typing-extensions<5,>=4.10 in /usr/local/lib/python3.11/dist-packages (from groq) (4.13.2)\n",
            "Requirement already satisfied: idna>=2.8 in /usr/local/lib/python3.11/dist-packages (from anyio<5,>=3.5.0->groq) (3.10)\n",
            "Requirement already satisfied: certifi in /usr/local/lib/python3.11/dist-packages (from httpx<1,>=0.23.0->groq) (2025.4.26)\n",
            "Requirement already satisfied: httpcore==1.* in /usr/local/lib/python3.11/dist-packages (from httpx<1,>=0.23.0->groq) (1.0.9)\n",
            "Requirement already satisfied: h11>=0.16 in /usr/local/lib/python3.11/dist-packages (from httpcore==1.*->httpx<1,>=0.23.0->groq) (0.16.0)\n",
            "Requirement already satisfied: annotated-types>=0.6.0 in /usr/local/lib/python3.11/dist-packages (from pydantic<3,>=1.9.0->groq) (0.7.0)\n",
            "Requirement already satisfied: pydantic-core==2.33.2 in /usr/local/lib/python3.11/dist-packages (from pydantic<3,>=1.9.0->groq) (2.33.2)\n",
            "Requirement already satisfied: typing-inspection>=0.4.0 in /usr/local/lib/python3.11/dist-packages (from pydantic<3,>=1.9.0->groq) (0.4.0)\n"
          ]
        }
      ]
    },
    {
      "cell_type": "markdown",
      "source": [
        "# Хайку"
      ],
      "metadata": {
        "id": "XOPX_AYKawFZ"
      },
      "id": "XOPX_AYKawFZ"
    },
    {
      "cell_type": "code",
      "source": [
        "import re\n",
        "import requests\n",
        "import json\n",
        "import pandas as pd\n",
        "from google.colab import files\n",
        "\n",
        "# Системный промпт и база данных\n",
        "with open('prompt_ru_shortened.txt', 'r', encoding='utf-8') as f:\n",
        "    system_prompt = f.read()\n",
        "\n",
        "with open('prompt10.txt', 'r', encoding='utf-8') as f:\n",
        "    database = f.read()\n",
        "\n",
        "# Настройки Groq API\n",
        "GROQ_API_KEY = \"GROQ_API_KEY\"  # Замените на ваш ключ\n",
        "MODEL_NAME = \"llama-3.3-70b-versatile\"\n",
        "API_URL = \"https://api.groq.com/openai/v1/chat/completions\""
      ],
      "metadata": {
        "id": "WRGbjQIKxU2o"
      },
      "id": "WRGbjQIKxU2o",
      "execution_count": 54,
      "outputs": []
    },
    {
      "cell_type": "code",
      "source": [
        "def generate_with_groq(prompt_text, temperature):\n",
        "    \"\"\"Функция для генерации текста через Groq API\"\"\"\n",
        "    messages = [\n",
        "        {\"role\": \"system\", \"content\": system_prompt + database},\n",
        "        {\"role\": \"user\", \"content\": prompt_text}\n",
        "    ]\n",
        "\n",
        "    headers = {\n",
        "        \"Authorization\": f\"Bearer {GROQ_API_KEY}\",\n",
        "        \"Content-Type\": \"application/json\"\n",
        "    }\n",
        "\n",
        "    data = {\n",
        "        \"messages\": messages,\n",
        "        \"model\": MODEL_NAME,\n",
        "        \"temperature\": temperature,\n",
        "        \"max_tokens\": 2000,\n",
        "    }\n",
        "\n",
        "    response = requests.post(API_URL, headers=headers, json=data)\n",
        "\n",
        "    if response.status_code == 200:\n",
        "        result = response.json()\n",
        "        return result['choices'][0]['message']['content']\n",
        "    else:\n",
        "        raise Exception(f\"API Error: {response.status_code}, {response.text}\")\n",
        "\n",
        "# Основной код выполнения\n",
        "def main():\n",
        "    # Ввод параметров\n",
        "    prompt_text = input(\"Введите промпт для генерации: \")\n",
        "    num_generations = int(input(\"Сколько вариантов сгенерировать? \"))\n",
        "\n",
        "    # Сбор результатов\n",
        "    results = {\n",
        "        \"prompt\": [],\n",
        "        \"temperature\": [],\n",
        "        \"result\": []\n",
        "    }\n",
        "\n",
        "    for i in range(num_generations):\n",
        "        try:\n",
        "            # Автоматическая генерация случайной температуры (0.3-1.0)\n",
        "            current_temp = random.uniform(0.3, 1.0)\n",
        "            output = generate_with_groq(prompt_text, current_temp)\n",
        "\n",
        "            # Парсинг результата\n",
        "            matches = re.findall(r'<start_of_turn>(.*?)<end_of_turn>', output, re.DOTALL)\n",
        "            result_text = matches[1] if len(matches) > 1 else output\n",
        "\n",
        "            # Сохранение результата\n",
        "            results[\"prompt\"].append(prompt_text)\n",
        "            results[\"temperature\"].append(current_temp)\n",
        "            results[\"result\"].append(result_text)\n",
        "\n",
        "            print(f\"\\nВариант {i+1} (temp={current_temp:.2f}):\")\n",
        "            print(result_text)\n",
        "            print(\"-\"*50)\n",
        "\n",
        "        except Exception as e:\n",
        "            print(f\"Ошибка при генерации: {str(e)}\")"
      ],
      "metadata": {
        "id": "-WfINWad2IYj"
      },
      "id": "-WfINWad2IYj",
      "execution_count": 43,
      "outputs": []
    },
    {
      "cell_type": "code",
      "source": [
        "# 1\n",
        "if __name__ == \"__main__\":\n",
        "    import random\n",
        "    main()"
      ],
      "metadata": {
        "colab": {
          "base_uri": "https://localhost:8080/"
        },
        "id": "DaMep8JhuLiE",
        "outputId": "e9f67a8e-d28d-4510-d2e9-35ff33185cae"
      },
      "id": "DaMep8JhuLiE",
      "execution_count": null,
      "outputs": [
        {
          "output_type": "stream",
          "name": "stdout",
          "text": [
            "Введите промпт для генерации: Сгенерируй хайку\n",
            "Сколько вариантов сгенерировать? 10\n",
            "\n",
            "Вариант 1 (temp=0.71):\n",
            "Золотой закат,\n",
            "Волны шепчут тайны ночи,\n",
            "Лунный свет на море.\n",
            "--------------------------------------------------\n",
            "\n",
            "Вариант 2 (temp=0.56):\n",
            "Золотой закат\n",
            "Падают листья на воду\n",
            "Осенний прощание\n",
            "--------------------------------------------------\n",
            "\n",
            "Вариант 3 (temp=0.57):\n",
            "Золотой закат\n",
            "Тени танцуют на воде\n",
            "Серенада ночи\n",
            "--------------------------------------------------\n",
            "\n",
            "Вариант 4 (temp=0.69):\n",
            "Лепестки вишни  \n",
            "Падают на тихий пруд  \n",
            "Весенний рассвет\n",
            "--------------------------------------------------\n",
            "\n",
            "Вариант 5 (temp=0.52):\n",
            "Зимняя тишина\n",
            "Снежинки танцуют медленно\n",
            "Холодная ночь спит\n",
            "--------------------------------------------------\n",
            "\n",
            "Вариант 6 (temp=0.74):\n",
            "Зимний рассвет холоден,\n",
            "Снежинки танцуют медленно,\n",
            "Тишина ночи.\n",
            "--------------------------------------------------\n",
            "\n",
            "Вариант 7 (temp=0.80):\n",
            "Зимний ветер дует,\n",
            "Снежинки танцуют в воздухе,\n",
            "Холодная тишина.\n",
            "--------------------------------------------------\n",
            "\n",
            "Вариант 8 (temp=0.79):\n",
            "Золотой закат\n",
            "Падают листья тихо вниз\n",
            "Осенняя печаль\n",
            "--------------------------------------------------\n",
            "\n",
            "Вариант 9 (temp=0.71):\n",
            "Снежинки медленно \n",
            "Падают на замерзший пруд \n",
            "Зимняя тишина\n",
            "--------------------------------------------------\n",
            "\n",
            "Вариант 10 (temp=0.87):\n",
            "Листья осеннего  \n",
            "Золотой дождь упадает  \n",
            "Воспоминания\n",
            "--------------------------------------------------\n"
          ]
        }
      ]
    },
    {
      "cell_type": "code",
      "source": [
        "# 2\n",
        "if __name__ == \"__main__\":\n",
        "    import random\n",
        "    main()"
      ],
      "metadata": {
        "colab": {
          "base_uri": "https://localhost:8080/"
        },
        "id": "R-9f6KaKueRY",
        "outputId": "d7d97672-f693-405e-df23-dcc53c84adcc"
      },
      "id": "R-9f6KaKueRY",
      "execution_count": null,
      "outputs": [
        {
          "output_type": "stream",
          "name": "stdout",
          "text": [
            "Введите промпт для генерации: сгенерируй хайку\n",
            "Сколько вариантов сгенерировать? 3\n",
            "\n",
            "Вариант 1 (temp=0.77):\n",
            "Лепестки вишни  \n",
            "Падают на воду тихо  \n",
            "Весна прощается\n",
            "--------------------------------------------------\n",
            "\n",
            "Вариант 2 (temp=0.90):\n",
            "Летний вечер неж,\n",
            "Цветы лотоса распуска,\n",
            "Мирное небо синее.\n",
            "--------------------------------------------------\n",
            "\n",
            "Вариант 3 (temp=0.81):\n",
            "Золотой закат\n",
            "Падают листья тихо вниз\n",
            "Осенний поцелуй\n",
            "--------------------------------------------------\n"
          ]
        }
      ]
    },
    {
      "cell_type": "code",
      "source": [
        "# 3\n",
        "if __name__ == \"__main__\":\n",
        "    import random\n",
        "    main()"
      ],
      "metadata": {
        "colab": {
          "base_uri": "https://localhost:8080/"
        },
        "id": "ofTO5RM4ITm0",
        "outputId": "7a45112e-5c02-4931-9387-799ad87713f5"
      },
      "id": "ofTO5RM4ITm0",
      "execution_count": 44,
      "outputs": [
        {
          "output_type": "stream",
          "name": "stdout",
          "text": [
            "Введите промпт для генерации: напиши хайку\n",
            "Сколько вариантов сгенерировать? 5\n",
            "\n",
            "Вариант 1 (temp=0.51):\n",
            "Золотой закат  \n",
            "Падают листья мягко вниз  \n",
            "Осенний прощание\n",
            "--------------------------------------------------\n",
            "\n",
            "Вариант 2 (temp=0.97):\n",
            "Зимний утренний\n",
            "Ледяные слезы на стекле\n",
            "Холодная тишина\n",
            "--------------------------------------------------\n",
            "\n",
            "Вариант 3 (temp=0.35):\n",
            "Лёгкий ветер дышит,\n",
            "Золотые листья падают,\n",
            "Шепот прощания.\n",
            "--------------------------------------------------\n",
            "\n",
            "Вариант 4 (temp=0.82):\n",
            "Снежинки падают\n",
            "Тихо ложатся на землю\n",
            "Зима спит глубоко\n",
            "--------------------------------------------------\n",
            "\n",
            "Вариант 5 (temp=0.99):\n",
            "Снежинки танцуют \n",
            "Ледяные звёзды падут \n",
            "Зимняя тишина\n",
            "--------------------------------------------------\n"
          ]
        }
      ]
    },
    {
      "cell_type": "code",
      "source": [
        "# Промт с делением на слоги\n",
        "with open('/content/prompt_ru_syllables.txt', 'r', encoding='utf-8') as f:\n",
        "    system_prompt = f.read()\n",
        "\n",
        "with open('/content/prompt10.txt', 'r', encoding='utf-8') as f:\n",
        "    database = f.read()\n",
        "\n",
        "# Настройки Groq API\n",
        "GROQ_API_KEY = \"GROQ_API_KEY\"  # Замените на ваш ключ\n",
        "MODEL_NAME = \"llama-3.3-70b-versatile\"  # Или другая поддерживаемая модель\n",
        "API_URL = \"https://api.groq.com/openai/v1/chat/completions\""
      ],
      "metadata": {
        "id": "A9NLpDhWvPIQ"
      },
      "id": "A9NLpDhWvPIQ",
      "execution_count": 55,
      "outputs": []
    },
    {
      "cell_type": "code",
      "source": [
        "# 4\n",
        "if __name__ == \"__main__\":\n",
        "    import random\n",
        "    main()"
      ],
      "metadata": {
        "colab": {
          "base_uri": "https://localhost:8080/"
        },
        "id": "59Ogd4AQz2qI",
        "outputId": "1c20fb34-4adf-47fc-f237-18d907032073"
      },
      "id": "59Ogd4AQz2qI",
      "execution_count": 16,
      "outputs": [
        {
          "output_type": "stream",
          "name": "stdout",
          "text": [
            "Введите промпт для генерации: напиши хайку\n",
            "Сколько вариантов сгенерировать? 5\n",
            "\n",
            "Вариант 1 (temp=0.78):\n",
            "Золотой закат\n",
            "Тени танцуют на снегу\n",
            "Зимняя тишина\n",
            "--------------------------------------------------\n",
            "\n",
            "Вариант 2 (temp=0.50):\n",
            "Летний ветер дует,\n",
            "Золотые листья падают,\n",
            "Шепчут прощания.\n",
            "--------------------------------------------------\n",
            "\n",
            "Вариант 3 (temp=0.37):\n",
            "Золотой закат  \n",
            "Падают листья тихо  \n",
            "Осенний вечер\n",
            "--------------------------------------------------\n",
            "\n",
            "Вариант 4 (temp=0.84):\n",
            "Снежинки танцуют,\n",
            "Зимний ветер шепчет тихо,\n",
            "Холодная тишина.\n",
            "--------------------------------------------------\n",
            "\n",
            "Вариант 5 (temp=0.63):\n",
            "Лепестки вишни\n",
            "Падают на землю тихо\n",
            "Весна прощается\n",
            "--------------------------------------------------\n"
          ]
        }
      ]
    },
    {
      "cell_type": "code",
      "source": [
        "# 5\n",
        "if __name__ == \"__main__\":\n",
        "    import random\n",
        "    main()"
      ],
      "metadata": {
        "colab": {
          "base_uri": "https://localhost:8080/"
        },
        "id": "Xi1rCc0Iz-nI",
        "outputId": "4eaeb603-754c-4f08-e0a8-e4a2ba8d138a"
      },
      "id": "Xi1rCc0Iz-nI",
      "execution_count": 17,
      "outputs": [
        {
          "output_type": "stream",
          "name": "stdout",
          "text": [
            "Введите промпт для генерации: создай хайку о весне\n",
            "Сколько вариантов сгенерировать? 5\n",
            "\n",
            "Вариант 1 (temp=0.71):\n",
            "Весенний ветер  \n",
            "Цветут вишни и сакура  \n",
            "Начало жизни\n",
            "--------------------------------------------------\n",
            "\n",
            "Вариант 2 (temp=0.72):\n",
            "Весенний ветер\n",
            "Новый цвет на деревьях\n",
            "Природа пробуждается\n",
            "--------------------------------------------------\n",
            "\n",
            "Вариант 3 (temp=0.89):\n",
            "Весенний ветерок,\n",
            "Цветущие вишни падают,\n",
            "Природа пробуждается.\n",
            "--------------------------------------------------\n",
            "\n",
            "Вариант 4 (temp=0.59):\n",
            "Весенний ветерок  \n",
            "Цветут вишни и сакура  \n",
            "Природа пробуждается\n",
            "--------------------------------------------------\n",
            "\n",
            "Вариант 5 (temp=0.48):\n",
            "Весенний ливень\n",
            "Цветут вишни и сакура\n",
            "Новый год начался\n",
            "--------------------------------------------------\n"
          ]
        }
      ]
    },
    {
      "cell_type": "code",
      "source": [
        "# 6\n",
        "if __name__ == \"__main__\":\n",
        "    import random\n",
        "    main()"
      ],
      "metadata": {
        "id": "gU_gi18k0rzY",
        "colab": {
          "base_uri": "https://localhost:8080/"
        },
        "outputId": "f0bb6e61-0506-41b1-80bb-edc66b869871"
      },
      "id": "gU_gi18k0rzY",
      "execution_count": 33,
      "outputs": [
        {
          "output_type": "stream",
          "name": "stdout",
          "text": [
            "Введите промпт для генерации: напиши хайку о зиме\n",
            "Сколько вариантов сгенерировать? 5\n",
            "\n",
            "Вариант 1 (temp=0.91):\n",
            "Снежный ночной мир\n",
            "Лунный свет на морозном\n",
            "Зимняя тишина\n",
            "--------------------------------------------------\n",
            "\n",
            "Вариант 2 (temp=0.53):\n",
            "Снежинки тихо\n",
            "Падают на замерзшее\n",
            "Зимнее утро\n",
            "--------------------------------------------------\n",
            "\n",
            "Вариант 3 (temp=0.33):\n",
            "Снежинки танцуют\n",
            "Ледяной ветер шепчет\n",
            "Зимняя тишина\n",
            "--------------------------------------------------\n",
            "\n",
            "Вариант 4 (temp=0.37):\n",
            "Холодный ветер\n",
            "Снежинки танцуют в воздухе\n",
            "Зимняя тишина\n",
            "--------------------------------------------------\n",
            "\n",
            "Вариант 5 (temp=0.69):\n",
            "Снежинки танцуют\n",
            "Холодный ветер шепчет\n",
            "Зимняя тишина\n",
            "--------------------------------------------------\n"
          ]
        }
      ]
    },
    {
      "cell_type": "code",
      "source": [
        "# 7\n",
        "if __name__ == \"__main__\":\n",
        "    import random\n",
        "    main()"
      ],
      "metadata": {
        "colab": {
          "base_uri": "https://localhost:8080/"
        },
        "id": "3LpmN4MK2tyA",
        "outputId": "ebeabe28-3d55-4f05-dbb0-e20d23729e0b"
      },
      "id": "3LpmN4MK2tyA",
      "execution_count": 32,
      "outputs": [
        {
          "output_type": "stream",
          "name": "stdout",
          "text": [
            "Введите промпт для генерации: напиши хайку о зиме\n",
            "Сколько вариантов сгенерировать? 5\n",
            "\n",
            "Вариант 1 (temp=0.40):\n",
            "Снежинки танцуют\n",
            "Холодный ветер шепчет\n",
            "Зимняя тишина\n",
            "--------------------------------------------------\n",
            "\n",
            "Вариант 2 (temp=0.71):\n",
            "Снежинки танцуют\n",
            "Морозный ветер шепчет\n",
            "Зимняя тишина\n",
            "--------------------------------------------------\n",
            "\n",
            "Вариант 3 (temp=0.95):\n",
            "Снежинки танцуют\n",
            "Первый лед на речке сверкает\n",
            "Зимний мирный сон\n",
            "--------------------------------------------------\n",
            "\n",
            "Вариант 4 (temp=0.53):\n",
            "Снежинки танцуют  \n",
            "Ледяной хруст под ногами  \n",
            "Зимний мирный сон\n",
            "--------------------------------------------------\n",
            "\n",
            "Вариант 5 (temp=0.82):\n",
            "Холодный ветер\n",
            "Снежинки танцуют вниз\n",
            "Зимняя тишина\n",
            "--------------------------------------------------\n"
          ]
        }
      ]
    },
    {
      "cell_type": "code",
      "source": [
        "# 8\n",
        "if __name__ == \"__main__\":\n",
        "    import random\n",
        "    main()"
      ],
      "metadata": {
        "colab": {
          "base_uri": "https://localhost:8080/"
        },
        "id": "lEaFokfq5yiL",
        "outputId": "88f15a89-17fa-43b1-aa87-ac729cbc14a8"
      },
      "id": "lEaFokfq5yiL",
      "execution_count": 35,
      "outputs": [
        {
          "output_type": "stream",
          "name": "stdout",
          "text": [
            "Введите промпт для генерации: напиши хайку об осени\n",
            "Сколько вариантов сгенерировать? 5\n",
            "\n",
            "Вариант 1 (temp=0.59):\n",
            "Золотой лист падает,\n",
            "Тихо шепчет лес осенний,\n",
            "Холодная ночь.\n",
            "--------------------------------------------------\n",
            "\n",
            "Вариант 2 (temp=0.35):\n",
            "Золотой лист падает,\n",
            "Тихо шепчет лес осенний,\n",
            "Холодный ветер дует.\n",
            "--------------------------------------------------\n",
            "\n",
            "Вариант 3 (temp=0.54):\n",
            "Золотой лист падает,\n",
            "Тихий ветер шепчет тайны,\n",
            "Осенний холодный поцелуй.\n",
            "--------------------------------------------------\n",
            "\n",
            "Вариант 4 (temp=0.36):\n",
            "Золотой лист падает,\n",
            "Тихий шепот осеннего ветра,\n",
            "Холодный утренний туман.\n",
            "--------------------------------------------------\n",
            "\n",
            "Вариант 5 (temp=0.84):\n",
            "Золотой лист падает\n",
            "Тихий шелест под осенним ветром\n",
            "Осень прощается\n",
            "--------------------------------------------------\n"
          ]
        }
      ]
    },
    {
      "cell_type": "code",
      "source": [
        "# 9\n",
        "if __name__ == \"__main__\":\n",
        "    import random\n",
        "    main()"
      ],
      "metadata": {
        "colab": {
          "base_uri": "https://localhost:8080/"
        },
        "id": "Z7EHfhCh_g0J",
        "outputId": "ad70794e-623a-46ab-9d82-59c48dd601c1"
      },
      "id": "Z7EHfhCh_g0J",
      "execution_count": 36,
      "outputs": [
        {
          "output_type": "stream",
          "name": "stdout",
          "text": [
            "Введите промпт для генерации: напиши хайку о весне\n",
            "Сколько вариантов сгенерировать? 5\n",
            "\n",
            "Вариант 1 (temp=0.44):\n",
            "Весенний ветерок\n",
            "Новый лист на ветке шел\n",
            "Первая капля дождя\n",
            "--------------------------------------------------\n",
            "\n",
            "Вариант 2 (temp=0.41):\n",
            "Весенний ветерок  \n",
            "Цветы вишни расцветают  \n",
            "Новый день рождён\n",
            "--------------------------------------------------\n",
            "\n",
            "Вариант 3 (temp=0.67):\n",
            "Весенний ветерок\n",
            "Зеленые побеги растут\n",
            "Новая жизнь пробуждается\n",
            "--------------------------------------------------\n",
            "\n",
            "Вариант 4 (temp=0.44):\n",
            "Весенний ветерок\n",
            "Сакуры цветут ярко\n",
            "Надежда пробуждается\n",
            "--------------------------------------------------\n",
            "\n",
            "Вариант 5 (temp=0.79):\n",
            "Весенний ветер\n",
            "Цветут вишни, поют птицы\n",
            "Новый день расцвет\n",
            "--------------------------------------------------\n"
          ]
        }
      ]
    },
    {
      "cell_type": "code",
      "source": [
        "# 10\n",
        "if __name__ == \"__main__\":\n",
        "    import random\n",
        "    main()"
      ],
      "metadata": {
        "colab": {
          "base_uri": "https://localhost:8080/"
        },
        "id": "c85BJpXKAl37",
        "outputId": "51cc1117-5802-48c3-eb9a-70c0f0d899cf"
      },
      "id": "c85BJpXKAl37",
      "execution_count": 37,
      "outputs": [
        {
          "output_type": "stream",
          "name": "stdout",
          "text": [
            "Введите промпт для генерации: сгенерируй хайку о лете\n",
            "Сколько вариантов сгенерировать? 5\n",
            "\n",
            "Вариант 1 (temp=0.84):\n",
            "Летний день горит,\n",
            "Цветы подсолнух раска,\n",
            "Знойный вечер спит.\n",
            "--------------------------------------------------\n",
            "\n",
            "Вариант 2 (temp=0.33):\n",
            "Летний ветерок\n",
            "Золотые лепестки\n",
            "Танцуют в небе\n",
            "--------------------------------------------------\n",
            "\n",
            "Вариант 3 (temp=0.54):\n",
            "Летний ветер дует,\n",
            "Цветы подсолнуха высоко,\n",
            "Теплое солнце светит.\n",
            "--------------------------------------------------\n",
            "\n",
            "Вариант 4 (temp=0.57):\n",
            "Летний вечер нежный,\n",
            "Цветы лотоса раскрыты,\n",
            "Лунный свет серебряный.\n",
            "--------------------------------------------------\n",
            "\n",
            "Вариант 5 (temp=0.65):\n",
            "Летний знойный день,\n",
            "Цветёт лотос на воде,\n",
            "Вечерняя роса.\n",
            "--------------------------------------------------\n"
          ]
        }
      ]
    },
    {
      "cell_type": "code",
      "source": [
        "# 11\n",
        "if __name__ == \"__main__\":\n",
        "    import random\n",
        "    main()"
      ],
      "metadata": {
        "colab": {
          "base_uri": "https://localhost:8080/"
        },
        "id": "vRPAa8lcIt-4",
        "outputId": "ecd0902b-834f-4692-9270-61e99bbfc364"
      },
      "id": "vRPAa8lcIt-4",
      "execution_count": 48,
      "outputs": [
        {
          "output_type": "stream",
          "name": "stdout",
          "text": [
            "Введите промпт для генерации: создай хайку про лето\n",
            "Сколько вариантов сгенерировать? 5\n",
            "\n",
            "Вариант 1 (temp=0.53):\n",
            "Летний вечер холод\n",
            "Цветы лотоса раскрыты\n",
            "Лунный свет на воде\n",
            "--------------------------------------------------\n",
            "\n",
            "Вариант 2 (temp=0.92):\n",
            "Летний вечер тепл,\n",
            "Жучки поют в саду гром,\n",
            "Звезды над цветами.\n",
            "--------------------------------------------------\n",
            "\n",
            "Вариант 3 (temp=0.72):\n",
            "Летний вечер нежно,\n",
            "Светлячки танцуют в темноте,\n",
            "Лунный поцелуй.\n",
            "--------------------------------------------------\n",
            "\n",
            "Вариант 4 (temp=0.85):\n",
            "Жаркий летний день,\n",
            "Цветы под солнцем расцветают,\n",
            "Теплое лето.\n",
            "--------------------------------------------------\n",
            "\n",
            "Вариант 5 (temp=0.97):\n",
            "Летний вечер неж\n",
            "Цветут подсолнухи\n",
            "Теплое лето спит\n",
            "--------------------------------------------------\n"
          ]
        }
      ]
    },
    {
      "cell_type": "code",
      "source": [
        "# 12\n",
        "if __name__ == \"__main__\":\n",
        "    import random\n",
        "    main()"
      ],
      "metadata": {
        "colab": {
          "base_uri": "https://localhost:8080/"
        },
        "id": "Lhw3KU7NK19F",
        "outputId": "95639dd8-ba74-4dbd-8402-622e476f7522"
      },
      "id": "Lhw3KU7NK19F",
      "execution_count": 57,
      "outputs": [
        {
          "output_type": "stream",
          "name": "stdout",
          "text": [
            "Введите промпт для генерации: напиши хайку про март\n",
            "Сколько вариантов сгенерировать? 5\n",
            "\n",
            "Вариант 1 (temp=0.53):\n",
            "Весенний ветер\n",
            "Тает снег, и на земле\n",
            "Родятся цветы\n",
            "--------------------------------------------------\n",
            "\n",
            "Вариант 2 (temp=0.65):\n",
            "Весенний лед тает,\n",
            "Снежинки падают медленно,\n",
            "Мартовский рассвет холодный\n",
            "--------------------------------------------------\n",
            "\n",
            "Вариант 3 (temp=0.51):\n",
            "Мартовский ветер  \n",
            "Тает снег, и лужи блестят  \n",
            "Весна пробуждается\n",
            "--------------------------------------------------\n",
            "\n",
            "Вариант 4 (temp=0.32):\n",
            "Мартовский рассвет\n",
            "Тает снег, и ветер шепчет\n",
            "Весну в моём сердце\n",
            "--------------------------------------------------\n",
            "\n",
            "Вариант 5 (temp=0.69):\n",
            "Мартовский ветер\n",
            "Тает снег, и цветут \n",
            "Весна пришла раньше\n",
            "--------------------------------------------------\n"
          ]
        }
      ]
    },
    {
      "cell_type": "code",
      "source": [
        "# 13\n",
        "if __name__ == \"__main__\":\n",
        "    import random\n",
        "    main()"
      ],
      "metadata": {
        "colab": {
          "base_uri": "https://localhost:8080/"
        },
        "id": "LloziZLfLah-",
        "outputId": "9437c558-26c2-4fc2-9675-b1bee1d46233"
      },
      "id": "LloziZLfLah-",
      "execution_count": 58,
      "outputs": [
        {
          "output_type": "stream",
          "name": "stdout",
          "text": [
            "Введите промпт для генерации: создай хайку про май\n",
            "Сколько вариантов сгенерировать? 5\n",
            "\n",
            "Вариант 1 (temp=0.97):\n",
            "Майский ветерок  \n",
            "Падают лепестки вишни  \n",
            "Лето близко теперь\n",
            "--------------------------------------------------\n",
            "\n",
            "Вариант 2 (temp=0.48):\n",
            "Майская роса\n",
            "Лепестки вишни падают\n",
            "Весенний ветерок\n",
            "--------------------------------------------------\n",
            "\n",
            "Вариант 3 (temp=0.71):\n",
            "Майская роса  \n",
            "Лепестки вишни падают  \n",
            "Весенний сладкий сон\n",
            "--------------------------------------------------\n",
            "\n",
            "Вариант 4 (temp=0.60):\n",
            "Майский рассвет\n",
            "Лепестки вишни падают\n",
            "Весенний шёпот\n",
            "--------------------------------------------------\n",
            "\n",
            "Вариант 5 (temp=0.90):\n",
            "Майская роса\n",
            "Падают лепестки цветов\n",
            "Молодая любовь\n",
            "--------------------------------------------------\n"
          ]
        }
      ]
    },
    {
      "cell_type": "code",
      "source": [
        "# 14\n",
        "if __name__ == \"__main__\":\n",
        "    import random\n",
        "    main()"
      ],
      "metadata": {
        "colab": {
          "base_uri": "https://localhost:8080/"
        },
        "id": "j1JC4wjdLie2",
        "outputId": "09686f1e-07f5-4faf-92f5-474a805af5a8"
      },
      "id": "j1JC4wjdLie2",
      "execution_count": 61,
      "outputs": [
        {
          "output_type": "stream",
          "name": "stdout",
          "text": [
            "Введите промпт для генерации: сгенерируй хайку про конец осени\n",
            "Сколько вариантов сгенерировать? 5\n",
            "\n",
            "Вариант 1 (temp=0.95):\n",
            "Золотой лист падает,\n",
            "Тени ночи ползут тихо,\n",
            "Зимний мир приближает.\n",
            "--------------------------------------------------\n",
            "\n",
            "Вариант 2 (temp=0.52):\n",
            "Золотой лист падает,\n",
            "Тень деревьев на земле,\n",
            "Холодный ветер дует.\n",
            "--------------------------------------------------\n",
            "\n",
            "Вариант 3 (temp=0.67):\n",
            "Золотой лист падает,\n",
            "Тени сгущаются ночью,\n",
            "Зима близко.\n",
            "--------------------------------------------------\n",
            "\n",
            "Вариант 4 (temp=0.92):\n",
            "Золотой лист пад,\n",
            "Тихий ветер говорит \n",
            "Зиме прощай, осень.\n",
            "--------------------------------------------------\n",
            "\n",
            "Вариант 5 (temp=0.82):\n",
            "Золотой лист падает,\n",
            "Тени снежинок танцуют,\n",
            "Зима близко стоит.\n",
            "--------------------------------------------------\n"
          ]
        }
      ]
    },
    {
      "cell_type": "code",
      "source": [
        "# 15\n",
        "if __name__ == \"__main__\":\n",
        "    import random\n",
        "    main()"
      ],
      "metadata": {
        "colab": {
          "base_uri": "https://localhost:8080/"
        },
        "id": "pSQGGxNCNkbf",
        "outputId": "9689d473-89db-4d1a-f0ed-1ed28026ae45"
      },
      "id": "pSQGGxNCNkbf",
      "execution_count": 63,
      "outputs": [
        {
          "output_type": "stream",
          "name": "stdout",
          "text": [
            "Введите промпт для генерации: создай хайку о декабре\n",
            "Сколько вариантов сгенерировать? 5\n",
            "\n",
            "Вариант 1 (temp=0.60):\n",
            "Холодный декабрь\n",
            "Снежинки танцуют в воздухе\n",
            "Зимняя тишина\n",
            "--------------------------------------------------\n",
            "\n",
            "Вариант 2 (temp=0.30):\n",
            "Снежинки лениво\n",
            "Падают на замёрзшее\n",
            "Зимнее молчанье\n",
            "--------------------------------------------------\n",
            "\n",
            "Вариант 3 (temp=0.51):\n",
            "Холодный декабрь\n",
            "Снежинки танцуют в воздухе\n",
            "Зимняя тишина\n",
            "--------------------------------------------------\n",
            "Ошибка при генерации: API Error: 429, {\"error\":{\"message\":\"Rate limit reached for model `llama-3.3-70b-versatile` in organization `org_01jvz1k78zfft9wqhgqsk3h793` service tier `on_demand` on tokens per minute (TPM): Limit 12000, Used 10728, Requested 1810. Please try again in 2.687999999s. Need more tokens? Upgrade to Dev Tier today at https://console.groq.com/settings/billing\",\"type\":\"tokens\",\"code\":\"rate_limit_exceeded\"}}\n",
            "\n",
            "Ошибка при генерации: API Error: 429, {\"error\":{\"message\":\"Rate limit reached for model `llama-3.3-70b-versatile` in organization `org_01jvz1k78zfft9wqhgqsk3h793` service tier `on_demand` on tokens per minute (TPM): Limit 12000, Used 10716, Requested 1810. Please try again in 2.626s. Need more tokens? Upgrade to Dev Tier today at https://console.groq.com/settings/billing\",\"type\":\"tokens\",\"code\":\"rate_limit_exceeded\"}}\n",
            "\n"
          ]
        }
      ]
    },
    {
      "cell_type": "markdown",
      "source": [
        "# Танка\n"
      ],
      "metadata": {
        "id": "avLoyy8h6PgD"
      },
      "id": "avLoyy8h6PgD"
    },
    {
      "cell_type": "code",
      "source": [
        "# С делением на слоги\n",
        "with open('/content/prompt_ru_syllables.txt', 'r', encoding='utf-8') as f:\n",
        "    system_prompt = f.read()\n",
        "\n",
        "with open('/content/prompt11.txt', 'r', encoding='utf-8') as f:\n",
        "    database = f.read()\n",
        "\n",
        "# Настройки Groq API\n",
        "GROQ_API_KEY = \"GROQ_API_KEY\"  # Замените на ваш ключ\n",
        "MODEL_NAME = \"llama-3.3-70b-versatile\"  # Или другая поддерживаемая модель\n",
        "API_URL = \"https://api.groq.com/openai/v1/chat/completions\""
      ],
      "metadata": {
        "id": "tYW-r7yI6GxE"
      },
      "id": "tYW-r7yI6GxE",
      "execution_count": 49,
      "outputs": []
    },
    {
      "cell_type": "code",
      "source": [
        "def generate_with_groq(prompt_text, temperature):\n",
        "    \"\"\"Функция для генерации текста через Groq API\"\"\"\n",
        "    messages = [\n",
        "        {\"role\": \"system\", \"content\": system_prompt + database},\n",
        "        {\"role\": \"user\", \"content\": prompt_text}\n",
        "    ]\n",
        "\n",
        "    headers = {\n",
        "        \"Authorization\": f\"Bearer {GROQ_API_KEY}\",\n",
        "        \"Content-Type\": \"application/json\"\n",
        "    }\n",
        "\n",
        "    data = {\n",
        "        \"messages\": messages,\n",
        "        \"model\": MODEL_NAME,\n",
        "        \"temperature\": temperature,\n",
        "        \"max_tokens\": 2000,\n",
        "    }\n",
        "\n",
        "    response = requests.post(API_URL, headers=headers, json=data)\n",
        "\n",
        "    if response.status_code == 200:\n",
        "        result = response.json()\n",
        "        return result['choices'][0]['message']['content']\n",
        "    else:\n",
        "        raise Exception(f\"API Error: {response.status_code}, {response.text}\")\n",
        "\n",
        "# Основной код выполнения\n",
        "def main():\n",
        "    # Ввод параметров\n",
        "    prompt_text = input(\"Введите промпт для генерации: \")\n",
        "    num_generations = int(input(\"Сколько вариантов сгенерировать? \"))\n",
        "\n",
        "    # Сбор результатов\n",
        "    results = {\n",
        "        \"prompt\": [],\n",
        "        \"temperature\": [],\n",
        "        \"result\": []\n",
        "    }\n",
        "\n",
        "    for i in range(num_generations):\n",
        "        try:\n",
        "            # Автоматическая генерация случайной температуры (0.3-1.0)\n",
        "            current_temp = random.uniform(0.3, 1.0)\n",
        "            output = generate_with_groq(prompt_text, current_temp)\n",
        "\n",
        "            # Парсинг результата\n",
        "            matches = re.findall(r'<start_of_turn>(.*?)<end_of_turn>', output, re.DOTALL)\n",
        "            result_text = matches[1] if len(matches) > 1 else output\n",
        "\n",
        "            # Сохранение результата\n",
        "            results[\"prompt\"].append(prompt_text)\n",
        "            results[\"temperature\"].append(current_temp)\n",
        "            results[\"result\"].append(result_text)\n",
        "\n",
        "            print(f\"\\nВариант {i+1} (temp={current_temp:.2f}):\")\n",
        "            print(result_text)\n",
        "            print(\"-\"*50)\n",
        "\n",
        "        except Exception as e:\n",
        "            print(f\"Ошибка при генерации: {str(e)}\")"
      ],
      "metadata": {
        "id": "oYQ3ovit6LfH"
      },
      "id": "oYQ3ovit6LfH",
      "execution_count": 50,
      "outputs": []
    },
    {
      "cell_type": "code",
      "source": [
        "# 1\n",
        "if __name__ == \"__main__\":\n",
        "    import random\n",
        "    main()"
      ],
      "metadata": {
        "colab": {
          "base_uri": "https://localhost:8080/"
        },
        "id": "xRvY8TMS6NA3",
        "outputId": "325a0087-c195-4a63-8df3-21754593b0c2"
      },
      "id": "xRvY8TMS6NA3",
      "execution_count": 24,
      "outputs": [
        {
          "output_type": "stream",
          "name": "stdout",
          "text": [
            "Введите промпт для генерации: напиши танка\n",
            "Сколько вариантов сгенерировать? 5\n",
            "\n",
            "Вариант 1 (temp=0.72):\n",
            "Листья шелестят\n",
            "Осенний ветер прощается\n",
            "Золотой закат\n",
            "Воспоминания о тебе\n",
            "Уходят, как утренний туман\n",
            "--------------------------------------------------\n",
            "\n",
            "Вариант 2 (temp=0.86):\n",
            "Лунный свет блестит  \n",
            "на поверхности пруда  \n",
            "тихо падают  \n",
            "звезды в тишине ночи  \n",
            "спокойствие души моей\n",
            "--------------------------------------------------\n",
            "\n",
            "Вариант 3 (temp=0.51):\n",
            "Осенний ветер шепчет  \n",
            "Через хрупкие листья клёна  \n",
            "Красный шёпот  \n",
            "Руки, что грешили в моих,  \n",
            "Уходят, как дыхание на утреннем льду\n",
            "--------------------------------------------------\n",
            "\n",
            "Вариант 4 (temp=0.79):\n",
            "Золотой закат  \n",
            "Скрывается за холмами  \n",
            "Тихий вечерний  \n",
            "Тени танцуют на стене  \n",
            "Звезды мерцают вдали\n",
            "--------------------------------------------------\n",
            "\n",
            "Вариант 5 (temp=0.89):\n",
            "Ветер шепчет низко\n",
            "Через опавшие листья\n",
            "Красный шепот\n",
            "Руки, теплые когда-то,\n",
            "Уходят, как утренний туман\n",
            "--------------------------------------------------\n"
          ]
        }
      ]
    },
    {
      "cell_type": "code",
      "source": [
        "# 2\n",
        "if __name__ == \"__main__\":\n",
        "    import random\n",
        "    main()"
      ],
      "metadata": {
        "colab": {
          "base_uri": "https://localhost:8080/"
        },
        "id": "Ce74VtXY6ehW",
        "outputId": "ed4ad394-b9cd-46a7-c020-f5446d9e3ffd"
      },
      "id": "Ce74VtXY6ehW",
      "execution_count": 25,
      "outputs": [
        {
          "output_type": "stream",
          "name": "stdout",
          "text": [
            "Введите промпт для генерации: напиши танка про любовь\n",
            "Сколько вариантов сгенерировать? 5\n",
            "\n",
            "Вариант 1 (temp=0.75):\n",
            "Лунный свет серебрит  \n",
            "Тени на твоей коже  \n",
            "Шепот в тишине  \n",
            "В сердце моем огонь  \n",
            "Любовь, которая не кончается\n",
            "--------------------------------------------------\n",
            "\n",
            "Вариант 2 (temp=0.36):\n",
            "Лунный свет блестит\n",
            "На волнах твоего лица\n",
            "Тайна в глазах\n",
            "В сердце моем огонь\n",
            "Любовь, как море глубоко\n",
            "--------------------------------------------------\n",
            "\n",
            "Вариант 3 (temp=0.49):\n",
            "Мягкий вечерний свет\n",
            "Золотит наши объятья\n",
            "Теплое дыханье\n",
            "В сердце моем остаётся\n",
            "Любовь, как лепестки роз\n",
            "--------------------------------------------------\n",
            "\n",
            "Вариант 4 (temp=0.68):\n",
            "Тихий ветер шепчет  \n",
            "Через листья клена — любовь  \n",
            "Красный шёпот сердца  \n",
            "Руки, что были в моих,  \n",
            "Как утренний туман рассеется\n",
            "--------------------------------------------------\n",
            "\n",
            "Вариант 5 (temp=0.54):\n",
            "Лунный свет мерцает\n",
            "Через шепчущие листья\n",
            "Тайный поцелуй\n",
            "В твоих глазах мой покой\n",
            "В сердце любовь навсегда\n",
            "--------------------------------------------------\n"
          ]
        }
      ]
    },
    {
      "cell_type": "code",
      "source": [
        "# 3\n",
        "if __name__ == \"__main__\":\n",
        "    import random\n",
        "    main()"
      ],
      "metadata": {
        "colab": {
          "base_uri": "https://localhost:8080/"
        },
        "id": "4AKtVr6n7Po1",
        "outputId": "4f056000-9416-44bc-a897-839eeb4d8679"
      },
      "id": "4AKtVr6n7Po1",
      "execution_count": 26,
      "outputs": [
        {
          "output_type": "stream",
          "name": "stdout",
          "text": [
            "Введите промпт для генерации: напиши танка о печали\n",
            "Сколько вариантов сгенерировать? 5\n",
            "\n",
            "Вариант 1 (temp=0.45):\n",
            "Осенние листья падают (5)\n",
            "тихо, без шума, без слов (7)\n",
            "сердце тоже падает (5)\n",
            "в пустоту, без надежды (7)\n",
            "в темноте, одна с болью (7)\n",
            "--------------------------------------------------\n",
            "\n",
            "Вариант 2 (temp=0.82):\n",
            "Тихий дождь падает\n",
            "Сердце мое увядает\n",
            "Осенний лист опал\n",
            "Печаль моя глубока\n",
            "Вечный холод остается\n",
            "--------------------------------------------------\n",
            "\n",
            "Вариант 3 (temp=0.33):\n",
            "Вечерний туман  \n",
            "Прячет слезы осенних  \n",
            "Деревьев шепот  \n",
            "В сердце моем печаль  \n",
            "Как листья, увядая\n",
            "--------------------------------------------------\n",
            "\n",
            "Вариант 4 (temp=0.97):\n",
            "Вечерний туман спит\n",
            "Радость потеряна во мгле\n",
            "Сердце каменеет\n",
            "Тоска по ушедшим дням\n",
            "Слезы падают как дождь\n",
            "--------------------------------------------------\n",
            "\n",
            "Вариант 5 (temp=0.53):\n",
            "Вечерний дождь падает\n",
            "Сердце мое тяжело болит\n",
            "Осенние листья\n",
            "Падают, как мои слезы\n",
            "Печаль остается с ночью\n",
            "--------------------------------------------------\n"
          ]
        }
      ]
    },
    {
      "cell_type": "code",
      "source": [
        "# 4\n",
        "if __name__ == \"__main__\":\n",
        "    import random\n",
        "    main()"
      ],
      "metadata": {
        "colab": {
          "base_uri": "https://localhost:8080/"
        },
        "id": "nSal6OG67abX",
        "outputId": "1ddde003-14dc-4080-ba8a-294ee08fdf40"
      },
      "id": "nSal6OG67abX",
      "execution_count": 27,
      "outputs": [
        {
          "output_type": "stream",
          "name": "stdout",
          "text": [
            "Введите промпт для генерации: напиши танка про тоску\n",
            "Сколько вариантов сгенерировать? 5\n",
            "\n",
            "Вариант 1 (temp=0.84):\n",
            "Вечерний ветер \n",
            "Золотой лист падает \n",
            "Тоскуют сердца \n",
            "Тишина осеннего \n",
            "Садов моей памяти\n",
            "--------------------------------------------------\n",
            "\n",
            "Вариант 2 (temp=0.81):\n",
            "Язык: русский\n",
            "\n",
            "Вечерний ветер\n",
            "Шепчет мне о твоей улыбке\n",
            "Звезды мерцают\n",
            "В темноте сердце болит\n",
            "Тоска по твоему теплу\n",
            "--------------------------------------------------\n",
            "\n",
            "Вариант 3 (temp=0.76):\n",
            "Вечерний ветер стонет  \n",
            "Тоскливые мысли о тебе  \n",
            "Вдали от твоих глаз  \n",
            "Память о твоих руках  \n",
            "Уходит, как утренний туман\n",
            "--------------------------------------------------\n",
            "\n",
            "Вариант 4 (temp=0.61):\n",
            "Тихий вечерний ветер\n",
            "Шепчет тайны в моём сердце\n",
            "Звёзды мерцают\n",
            "О, когда же ты вернёшься\n",
            "В мои объятия, моя любовь\n",
            "--------------------------------------------------\n",
            "\n",
            "Вариант 5 (temp=0.79):\n",
            "Вечерний ветер стонет  \n",
            "тоска по твоим рукам  \n",
            "в сумерках холод  \n",
            "память о твоих глазах  \n",
            "в сердце моём остаётся\n",
            "--------------------------------------------------\n"
          ]
        }
      ]
    },
    {
      "cell_type": "code",
      "source": [
        "# 5\n",
        "if __name__ == \"__main__\":\n",
        "    import random\n",
        "    main()"
      ],
      "metadata": {
        "colab": {
          "base_uri": "https://localhost:8080/"
        },
        "id": "0cJJDXU57s-t",
        "outputId": "b5c1f969-d98b-4f54-e0a3-8095c9592af5"
      },
      "id": "0cJJDXU57s-t",
      "execution_count": 28,
      "outputs": [
        {
          "output_type": "stream",
          "name": "stdout",
          "text": [
            "Введите промпт для генерации: сгенериру танка про ненависть\n",
            "Сколько вариантов сгенерировать? 5\n",
            "\n",
            "Вариант 1 (temp=0.78):\n",
            "Тьма ненависти\n",
            "Ползёт по замёрзшей душе\n",
            "Лёд в сердце моём\n",
            "Горький вкус отчаянья\n",
            "Мёртвые эмоции холодеют\n",
            "--------------------------------------------------\n",
            "\n",
            "Вариант 2 (temp=0.58):\n",
            "Тёмные облака гнетут (5)\n",
            "Злоба в сердце, как лёд, замерз (7)\n",
            "Яд в каждом слове (5)\n",
            "Разрывая души, как ножи, мёртв (7)\n",
            "В тишине ненависти ждёт (7)\n",
            "--------------------------------------------------\n",
            "\n",
            "Вариант 3 (temp=0.33):\n",
            "Тёмная злоба (5)\n",
            "Ползёт по моей душе медленно (7)\n",
            "Яд в каждом слове (5)\n",
            "Разрушает сердце, как лёд (7)\n",
            "И ненависть поглощает всё. (7)\n",
            "--------------------------------------------------\n",
            "\n",
            "Вариант 4 (temp=0.83):\n",
            "Жестокий ветер\n",
            "Бьёт по замёрзшим душам\n",
            "Горе не умирает\n",
            "Пепел ненависти остаёт\n",
            "Тьма в сердцах навсегда\n",
            "--------------------------------------------------\n",
            "\n",
            "Вариант 5 (temp=0.63):\n",
            "Темная ночь спускается\n",
            "Тени танцуют на стене\n",
            "Горький вкус ненависти\n",
            "Разъедает мое сердце\n",
            "Как осенний лист увядает\n",
            "--------------------------------------------------\n"
          ]
        }
      ]
    },
    {
      "cell_type": "code",
      "source": [
        "# 6\n",
        "if __name__ == \"__main__\":\n",
        "    import random\n",
        "    main()"
      ],
      "metadata": {
        "colab": {
          "base_uri": "https://localhost:8080/"
        },
        "id": "moNAbnYS77ik",
        "outputId": "7d43a7ff-d696-498a-9bed-bd91af287adb"
      },
      "id": "moNAbnYS77ik",
      "execution_count": 29,
      "outputs": [
        {
          "output_type": "stream",
          "name": "stdout",
          "text": [
            "Введите промпт для генерации: создай танка о счастье\n",
            "Сколько вариантов сгенерировать? 5\n",
            "\n",
            "Вариант 1 (temp=0.89):\n",
            "Солнце светит ярко (5)\n",
            "на полях золотых цветов (7)\n",
            "радость моя (5)\n",
            "заполняет мое сердце (7)\n",
            "и делает меня блаженным (7)\n",
            "--------------------------------------------------\n",
            "\n",
            "Вариант 2 (temp=0.54):\n",
            "Весенний ветер шепчет (5)\n",
            "Через расцветающие вишни — (7)\n",
            "Солнечная улыбка (5)\n",
            "Наполняет сердце радостью (7)\n",
            "И счастьем, как утренний свет. (7)\n",
            "--------------------------------------------------\n",
            "Ошибка при генерации: API Error: 429, {\"error\":{\"message\":\"Rate limit reached for model `llama-3.3-70b-versatile` in organization `org_01jswjmzp1f13tqewa46j5c80t` service tier `on_demand` on tokens per day (TPD): Limit 100000, Used 98652, Requested 2009. Please try again in 9m30.981s. Need more tokens? Upgrade to Dev Tier today at https://console.groq.com/settings/billing\",\"type\":\"tokens\",\"code\":\"rate_limit_exceeded\"}}\n",
            "\n",
            "Ошибка при генерации: API Error: 429, {\"error\":{\"message\":\"Rate limit reached for model `llama-3.3-70b-versatile` in organization `org_01jswjmzp1f13tqewa46j5c80t` service tier `on_demand` on tokens per day (TPD): Limit 100000, Used 98652, Requested 2009. Please try again in 9m30.911s. Need more tokens? Upgrade to Dev Tier today at https://console.groq.com/settings/billing\",\"type\":\"tokens\",\"code\":\"rate_limit_exceeded\"}}\n",
            "\n",
            "Ошибка при генерации: API Error: 429, {\"error\":{\"message\":\"Rate limit reached for model `llama-3.3-70b-versatile` in organization `org_01jswjmzp1f13tqewa46j5c80t` service tier `on_demand` on tokens per day (TPD): Limit 100000, Used 98652, Requested 2009. Please try again in 9m30.842s. Need more tokens? Upgrade to Dev Tier today at https://console.groq.com/settings/billing\",\"type\":\"tokens\",\"code\":\"rate_limit_exceeded\"}}\n",
            "\n"
          ]
        }
      ]
    },
    {
      "cell_type": "code",
      "source": [
        "# 7\n",
        "if __name__ == \"__main__\":\n",
        "    import random\n",
        "    main()"
      ],
      "metadata": {
        "colab": {
          "base_uri": "https://localhost:8080/"
        },
        "id": "Ub5pU6Cm8Pph",
        "outputId": "fceb205d-35e7-4293-d836-738f2f5e9260"
      },
      "id": "Ub5pU6Cm8Pph",
      "execution_count": 41,
      "outputs": [
        {
          "output_type": "stream",
          "name": "stdout",
          "text": [
            "Введите промпт для генерации: создай танка о счастье\n",
            "Сколько вариантов сгенерировать? 5\n",
            "\n",
            "Вариант 1 (temp=0.78):\n",
            "Весенний ветер шепчет\n",
            "Через расцветающие вишни\n",
            "Капли росы блестят\n",
            "В сердце радость просыпается\n",
            "Как утреннее солнце светит\n",
            "--------------------------------------------------\n",
            "Ошибка при генерации: API Error: 429, {\"error\":{\"message\":\"Rate limit reached for model `llama-3.3-70b-versatile` in organization `org_01jswjmzp1f13tqewa46j5c80t` service tier `on_demand` on tokens per day (TPD): Limit 100000, Used 98919, Requested 2009. Please try again in 13m21.625s. Need more tokens? Upgrade to Dev Tier today at https://console.groq.com/settings/billing\",\"type\":\"tokens\",\"code\":\"rate_limit_exceeded\"}}\n",
            "\n",
            "Ошибка при генерации: API Error: 429, {\"error\":{\"message\":\"Rate limit reached for model `llama-3.3-70b-versatile` in organization `org_01jswjmzp1f13tqewa46j5c80t` service tier `on_demand` on tokens per day (TPD): Limit 100000, Used 98919, Requested 2009. Please try again in 13m21.563s. Need more tokens? Upgrade to Dev Tier today at https://console.groq.com/settings/billing\",\"type\":\"tokens\",\"code\":\"rate_limit_exceeded\"}}\n",
            "\n",
            "Ошибка при генерации: API Error: 429, {\"error\":{\"message\":\"Rate limit reached for model `llama-3.3-70b-versatile` in organization `org_01jswjmzp1f13tqewa46j5c80t` service tier `on_demand` on tokens per day (TPD): Limit 100000, Used 98919, Requested 2009. Please try again in 13m21.492s. Need more tokens? Upgrade to Dev Tier today at https://console.groq.com/settings/billing\",\"type\":\"tokens\",\"code\":\"rate_limit_exceeded\"}}\n",
            "\n",
            "Ошибка при генерации: API Error: 429, {\"error\":{\"message\":\"Rate limit reached for model `llama-3.3-70b-versatile` in organization `org_01jswjmzp1f13tqewa46j5c80t` service tier `on_demand` on tokens per day (TPD): Limit 100000, Used 98919, Requested 2009. Please try again in 13m21.416s. Need more tokens? Upgrade to Dev Tier today at https://console.groq.com/settings/billing\",\"type\":\"tokens\",\"code\":\"rate_limit_exceeded\"}}\n",
            "\n"
          ]
        }
      ]
    },
    {
      "cell_type": "code",
      "source": [
        "# 8\n",
        "if __name__ == \"__main__\":\n",
        "    import random\n",
        "    main()"
      ],
      "metadata": {
        "colab": {
          "base_uri": "https://localhost:8080/"
        },
        "id": "rR9S7cueBVXY",
        "outputId": "365a533f-1c29-4faa-a51d-aa2de3e761ef"
      },
      "id": "rR9S7cueBVXY",
      "execution_count": 51,
      "outputs": [
        {
          "output_type": "stream",
          "name": "stdout",
          "text": [
            "Введите промпт для генерации: создай танка о счастье\n",
            "Сколько вариантов сгенерировать? 5\n",
            "\n",
            "Вариант 1 (temp=0.96):\n",
            "Ветер шепчет низко\n",
            "через нежные цветы ивы,\n",
            "радостный вздох\n",
            "счастливые моменты остаются\n",
            "в сердце, как утренний свет.\n",
            "--------------------------------------------------\n",
            "\n",
            "Вариант 2 (temp=0.50):\n",
            "Весенний ветер шепчет\n",
            "Через цветущие вишни нежно\n",
            "Солнечная улыбка\n",
            "Наполняет сердце радостью\n",
            "Счастье танцует в душе свободно\n",
            "--------------------------------------------------\n",
            "\n",
            "Вариант 3 (temp=0.78):\n",
            "Весенний ветер шепчет\n",
            "Через расцветающие вишни\n",
            "Радостный смех звучит\n",
            "В сердце моем счастье растет\n",
            "Как лепестки цветов расцветают\n",
            "--------------------------------------------------\n",
            "\n",
            "Вариант 4 (temp=0.76):\n",
            "Весна входит в дом\n",
            "Солнечные лучи танцуют\n",
            "Веселая улыбка\n",
            "Счастье разливается широко\n",
            "Как летние облака плывут\n",
            "--------------------------------------------------\n",
            "\n",
            "Вариант 5 (temp=0.38):\n",
            "Солнечный свет играет\n",
            "На листьях весенних цветов\n",
            "Жизнь полна радостью\n",
            "В каждом мгновении счастье\n",
            "Наполняет мое сердце светом\n",
            "--------------------------------------------------\n"
          ]
        }
      ]
    },
    {
      "cell_type": "code",
      "source": [
        "# 9\n",
        "if __name__ == \"__main__\":\n",
        "    import random\n",
        "    main()"
      ],
      "metadata": {
        "colab": {
          "base_uri": "https://localhost:8080/"
        },
        "id": "KsAH42vaJSSj",
        "outputId": "db401bb7-80dd-4c34-9e1f-a32af6defd0a"
      },
      "id": "KsAH42vaJSSj",
      "execution_count": 52,
      "outputs": [
        {
          "output_type": "stream",
          "name": "stdout",
          "text": [
            "Введите промпт для генерации: напиши танка о мечте\n",
            "Сколько вариантов сгенерировать? 5\n",
            "\n",
            "Вариант 1 (temp=0.72):\n",
            "Сновидец вздыхает\n",
            "Лунный свет на волнах танцует\n",
            "Тайна ночи падает\n",
            "В сердце моём мерцает\n",
            "Мечта, как утро, развернётся\n",
            "--------------------------------------------------\n",
            "\n",
            "Вариант 2 (temp=0.57):\n",
            "Сны в полночь взлетают\n",
            "Волшебный ветер уносит\n",
            "За звездным порогом\n",
            "Где сердце бьется в такт мечте\n",
            "И душа на крыльях парит\n",
            "--------------------------------------------------\n",
            "\n",
            "Вариант 3 (temp=0.86):\n",
            "Сонный туман рассе\n",
            "Пробуждаются желанья\n",
            "Полуночь шепчет\n",
            "В сердце моем разгорит\n",
            "Свет надежды остается\n",
            "--------------------------------------------------\n",
            "\n",
            "Вариант 4 (temp=0.91):\n",
            "Лунный свет на волне\n",
            "Ночная тайна шепчет мне\n",
            "Сны в сердце зажиг\n",
            "И в их глубине течёт\n",
            "Мечта, как река свободы\n",
            "--------------------------------------------------\n",
            "Ошибка при генерации: API Error: 429, {\"error\":{\"message\":\"Rate limit reached for model `llama-3.3-70b-versatile` in organization `org_01jvz1k78zfft9wqhgqsk3h793` service tier `on_demand` on tokens per minute (TPM): Limit 12000, Used 10353, Requested 2008. Please try again in 1.805s. Need more tokens? Upgrade to Dev Tier today at https://console.groq.com/settings/billing\",\"type\":\"tokens\",\"code\":\"rate_limit_exceeded\"}}\n",
            "\n"
          ]
        }
      ]
    }
  ],
  "metadata": {
    "kernelspec": {
      "display_name": "SBERT Env",
      "language": "python",
      "name": "sbert-env"
    },
    "language_info": {
      "codemirror_mode": {
        "name": "ipython",
        "version": 3
      },
      "file_extension": ".py",
      "mimetype": "text/x-python",
      "name": "python",
      "nbconvert_exporter": "python",
      "pygments_lexer": "ipython3",
      "version": "3.10.16"
    },
    "colab": {
      "provenance": [],
      "include_colab_link": true
    }
  },
  "nbformat": 4,
  "nbformat_minor": 5
}